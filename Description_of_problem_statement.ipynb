{
 "cells": [
  {
   "cell_type": "markdown",
   "metadata": {
    "collapsed": true
   },
   "source": [
    "### A description of the problem and a discussion of the background"
   ]
  },
  {
   "cell_type": "markdown",
   "metadata": {},
   "source": [
    "Solar power which consists of converting solar energy into electricity. Solar power is also considered as a clean source of electricity as well as it is renewable energy, unlike fossil fuels. On one hand, a significant increase in electricity demand in each year is recorded as the population expands and appliances that use electrical power appears. On the other hand, exploiting fossil fuels for electrical power generation can ruin our environment i.e our planet. Therefore, solar power is replacing exponentially fossil fuels and many incentives in different countries are set up to support the solar power industry, such as Net Metring and Feeding Tarif in the US and Germany respectively.  This project deals with roof mounting of solar panels at different locations in the US. For solar companies, it is of interest to know which locations are attractive for solar panel roof mounting in terms of electricity generation and from the economical point of view since this depends strongly on the location i.e solar energy resources. "
   ]
  },
  {
   "cell_type": "markdown",
   "metadata": {},
   "source": [
    "### A description of the data and how it will be used to solve the problem."
   ]
  },
  {
   "cell_type": "markdown",
   "metadata": {},
   "source": [
    "In this project we will be analysing the sun roof data from Google. Here what is about:\n",
    "\n",
    "As the price of installing solar has gotten less expensive, more homeowners are turning to it as a possible option for decreasing their energy bill. The project wants to make installing solar panels easy and understandable for anyone.\n",
    "\n",
    "Project Sunroof puts Google's expansive data in mapping and computing resources to use, helping calculate the best solar plan for you.\n",
    "More information about the project can be found on their home pgae https://www.google.com/get/sunroof/about/\n",
    "\n",
    "Using sun roof data from Google along with Foursquare API we will be alble to cluster the regions in the US in a way that solar companies know where it make more sens/profit to start the nex solar roof project."
   ]
  },
  {
   "cell_type": "code",
   "execution_count": null,
   "metadata": {},
   "outputs": [],
   "source": []
  }
 ],
 "metadata": {
  "kernelspec": {
   "display_name": "Python 3.6",
   "language": "python",
   "name": "python3"
  },
  "language_info": {
   "codemirror_mode": {
    "name": "ipython",
    "version": 3
   },
   "file_extension": ".py",
   "mimetype": "text/x-python",
   "name": "python",
   "nbconvert_exporter": "python",
   "pygments_lexer": "ipython3",
   "version": "3.6.8"
  }
 },
 "nbformat": 4,
 "nbformat_minor": 1
}
