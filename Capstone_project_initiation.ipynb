{
 "cells": [
  {
   "cell_type": "markdown",
   "metadata": {},
   "source": [
    "# Setting up a notebook for the capstone project "
   ]
  },
  {
   "cell_type": "markdown",
   "metadata": {},
   "source": [
    "## Author : Djaber Berrian"
   ]
  },
  {
   "cell_type": "markdown",
   "metadata": {},
   "source": [
    "### Summary : Applied Machine Learning Techniques "
   ]
  },
  {
   "cell_type": "code",
   "execution_count": 1,
   "metadata": {},
   "outputs": [],
   "source": [
    "import pandas as pd\n",
    "import numpy as np\n",
    "import matplotlib.pyplot as plt\n",
    "import matplotlib as mpl\n",
    "mpl.style.use('ggplot')\n",
    "%matplotlib inline"
   ]
  },
  {
   "cell_type": "code",
   "execution_count": 2,
   "metadata": {},
   "outputs": [
    {
     "name": "stdout",
     "output_type": "stream",
     "text": [
      "Hello Capstone Project Course!\n"
     ]
    }
   ],
   "source": [
    "print('Hello Capstone Project Course!')"
   ]
  },
  {
   "cell_type": "markdown",
   "metadata": {},
   "source": [
    "###  Loading sun roof data from the Github account"
   ]
  },
  {
   "cell_type": "code",
   "execution_count": 3,
   "metadata": {},
   "outputs": [],
   "source": [
    "df_sun_roof= pd.read_csv(\"https://raw.githubusercontent.com/dberrian/capstone-project/master/project-sunroof.csv\") # sun roof data\n",
    "\n",
    "df_dscpt = pd.read_csv('https://raw.githubusercontent.com/dberrian/capstone-project/master/metadata.csv', delimiter=';') # description of sun roof data columns "
   ]
  },
  {
   "cell_type": "markdown",
   "metadata": {},
   "source": [
    "### More about the data set of interesrt "
   ]
  },
  {
   "cell_type": "markdown",
   "metadata": {},
   "source": [
    "In this project we will be analysing the sun roof data from Google. Here what is about:\n",
    "\n",
    "As the price of installing solar has gotten less expensive, more homeowners are turning to it as a possible option for decreasing their energy bill. The project wants to make installing solar panels easy and understandable for anyone. \n",
    "\n",
    "Project Sunroof puts Google's expansive data in mapping and computing resources to use, helping calculate the best solar plan for you.\n",
    "\n",
    "More information about the project can be found on their home pgae https://www.google.com/get/sunroof/about/"
   ]
  },
  {
   "cell_type": "markdown",
   "metadata": {},
   "source": [
    "### Data Exploratory Analysis"
   ]
  },
  {
   "cell_type": "code",
   "execution_count": 4,
   "metadata": {},
   "outputs": [
    {
     "data": {
      "text/html": [
       "<div>\n",
       "<style scoped>\n",
       "    .dataframe tbody tr th:only-of-type {\n",
       "        vertical-align: middle;\n",
       "    }\n",
       "\n",
       "    .dataframe tbody tr th {\n",
       "        vertical-align: top;\n",
       "    }\n",
       "\n",
       "    .dataframe thead th {\n",
       "        text-align: right;\n",
       "    }\n",
       "</style>\n",
       "<table border=\"1\" class=\"dataframe\">\n",
       "  <thead>\n",
       "    <tr style=\"text-align: right;\">\n",
       "      <th></th>\n",
       "      <th>region_name</th>\n",
       "      <th>state_name</th>\n",
       "      <th>lat_max</th>\n",
       "      <th>lat_min</th>\n",
       "      <th>lng_max</th>\n",
       "      <th>lng_min</th>\n",
       "      <th>lat_avg</th>\n",
       "      <th>lng_avg</th>\n",
       "      <th>yearly_sunlight_kwh_kw_threshold_avg</th>\n",
       "      <th>count_qualified</th>\n",
       "      <th>...</th>\n",
       "      <th>yearly_sunlight_kwh_n</th>\n",
       "      <th>yearly_sunlight_kwh_s</th>\n",
       "      <th>yearly_sunlight_kwh_e</th>\n",
       "      <th>yearly_sunlight_kwh_w</th>\n",
       "      <th>yearly_sunlight_kwh_f</th>\n",
       "      <th>yearly_sunlight_kwh_median</th>\n",
       "      <th>yearly_sunlight_kwh_total</th>\n",
       "      <th>install_size_kw_buckets_json</th>\n",
       "      <th>carbon_offset_metric_tons</th>\n",
       "      <th>existing_installs_count</th>\n",
       "    </tr>\n",
       "  </thead>\n",
       "  <tbody>\n",
       "    <tr>\n",
       "      <th>0</th>\n",
       "      <td>NaN</td>\n",
       "      <td>Pennsylvania</td>\n",
       "      <td>40.701884</td>\n",
       "      <td>40.612937</td>\n",
       "      <td>-75.462191</td>\n",
       "      <td>-75.546116</td>\n",
       "      <td>40.650352</td>\n",
       "      <td>-75.495835</td>\n",
       "      <td>985.150000</td>\n",
       "      <td>7673</td>\n",
       "      <td>...</td>\n",
       "      <td>1.002516e+07</td>\n",
       "      <td>3.514971e+07</td>\n",
       "      <td>2.304186e+07</td>\n",
       "      <td>2.454188e+07</td>\n",
       "      <td>5.992748e+07</td>\n",
       "      <td>9215.539380</td>\n",
       "      <td>1.526861e+08</td>\n",
       "      <td>[[0,2009],[5,2674],[10,1358],[15,696],[20,286]...</td>\n",
       "      <td>97025.991471</td>\n",
       "      <td>11</td>\n",
       "    </tr>\n",
       "    <tr>\n",
       "      <th>1</th>\n",
       "      <td>NaN</td>\n",
       "      <td>NaN</td>\n",
       "      <td>32.551561</td>\n",
       "      <td>32.542257</td>\n",
       "      <td>-116.919812</td>\n",
       "      <td>-117.030077</td>\n",
       "      <td>32.548449</td>\n",
       "      <td>-116.956736</td>\n",
       "      <td>1300.500000</td>\n",
       "      <td>2</td>\n",
       "      <td>...</td>\n",
       "      <td>4.745559e+03</td>\n",
       "      <td>7.692078e+03</td>\n",
       "      <td>0.000000e+00</td>\n",
       "      <td>0.000000e+00</td>\n",
       "      <td>0.000000e+00</td>\n",
       "      <td>5209.464685</td>\n",
       "      <td>1.243764e+04</td>\n",
       "      <td>[[0,2]]</td>\n",
       "      <td>0.000000</td>\n",
       "      <td>0</td>\n",
       "    </tr>\n",
       "    <tr>\n",
       "      <th>2</th>\n",
       "      <td>Aberdeen</td>\n",
       "      <td>North Carolina</td>\n",
       "      <td>35.183959</td>\n",
       "      <td>35.053605</td>\n",
       "      <td>-79.388482</td>\n",
       "      <td>-79.538347</td>\n",
       "      <td>35.143597</td>\n",
       "      <td>-79.424747</td>\n",
       "      <td>1083.750000</td>\n",
       "      <td>1078</td>\n",
       "      <td>...</td>\n",
       "      <td>9.168585e+05</td>\n",
       "      <td>5.550471e+06</td>\n",
       "      <td>4.255421e+06</td>\n",
       "      <td>3.855701e+06</td>\n",
       "      <td>3.027457e+07</td>\n",
       "      <td>11665.383398</td>\n",
       "      <td>4.485302e+07</td>\n",
       "      <td>[[0,250],[5,308],[10,181],[15,82],[20,35],[25,...</td>\n",
       "      <td>26330.806205</td>\n",
       "      <td>0</td>\n",
       "    </tr>\n",
       "    <tr>\n",
       "      <th>3</th>\n",
       "      <td>Abilene</td>\n",
       "      <td>Texas</td>\n",
       "      <td>32.614325</td>\n",
       "      <td>32.236656</td>\n",
       "      <td>-99.589583</td>\n",
       "      <td>-100.086436</td>\n",
       "      <td>32.435016</td>\n",
       "      <td>-99.750683</td>\n",
       "      <td>1252.411447</td>\n",
       "      <td>42802</td>\n",
       "      <td>...</td>\n",
       "      <td>5.603976e+07</td>\n",
       "      <td>2.343579e+08</td>\n",
       "      <td>1.400185e+08</td>\n",
       "      <td>2.035497e+08</td>\n",
       "      <td>6.438137e+08</td>\n",
       "      <td>15695.829395</td>\n",
       "      <td>1.277779e+09</td>\n",
       "      <td>[[0,5788],[5,13535],[10,10456],[15,5265],[20,2...</td>\n",
       "      <td>621366.849401</td>\n",
       "      <td>25</td>\n",
       "    </tr>\n",
       "    <tr>\n",
       "      <th>4</th>\n",
       "      <td>Abington</td>\n",
       "      <td>Massachusetts</td>\n",
       "      <td>42.147124</td>\n",
       "      <td>42.088107</td>\n",
       "      <td>-70.918676</td>\n",
       "      <td>-71.001744</td>\n",
       "      <td>42.116700</td>\n",
       "      <td>-70.954330</td>\n",
       "      <td>974.091632</td>\n",
       "      <td>3285</td>\n",
       "      <td>...</td>\n",
       "      <td>5.326572e+05</td>\n",
       "      <td>1.327014e+07</td>\n",
       "      <td>5.996178e+06</td>\n",
       "      <td>6.785506e+06</td>\n",
       "      <td>2.302204e+07</td>\n",
       "      <td>6551.267090</td>\n",
       "      <td>4.960652e+07</td>\n",
       "      <td>[[0,1270],[5,1351],[10,333],[15,80],[20,33],[2...</td>\n",
       "      <td>21479.144107</td>\n",
       "      <td>107</td>\n",
       "    </tr>\n",
       "  </tbody>\n",
       "</table>\n",
       "<p>5 rows × 31 columns</p>\n",
       "</div>"
      ],
      "text/plain": [
       "  region_name      state_name    lat_max    lat_min     lng_max     lng_min  \\\n",
       "0         NaN    Pennsylvania  40.701884  40.612937  -75.462191  -75.546116   \n",
       "1         NaN             NaN  32.551561  32.542257 -116.919812 -117.030077   \n",
       "2    Aberdeen  North Carolina  35.183959  35.053605  -79.388482  -79.538347   \n",
       "3     Abilene           Texas  32.614325  32.236656  -99.589583 -100.086436   \n",
       "4    Abington   Massachusetts  42.147124  42.088107  -70.918676  -71.001744   \n",
       "\n",
       "     lat_avg     lng_avg  yearly_sunlight_kwh_kw_threshold_avg  \\\n",
       "0  40.650352  -75.495835                            985.150000   \n",
       "1  32.548449 -116.956736                           1300.500000   \n",
       "2  35.143597  -79.424747                           1083.750000   \n",
       "3  32.435016  -99.750683                           1252.411447   \n",
       "4  42.116700  -70.954330                            974.091632   \n",
       "\n",
       "   count_qualified  ...  yearly_sunlight_kwh_n  yearly_sunlight_kwh_s  \\\n",
       "0             7673  ...           1.002516e+07           3.514971e+07   \n",
       "1                2  ...           4.745559e+03           7.692078e+03   \n",
       "2             1078  ...           9.168585e+05           5.550471e+06   \n",
       "3            42802  ...           5.603976e+07           2.343579e+08   \n",
       "4             3285  ...           5.326572e+05           1.327014e+07   \n",
       "\n",
       "   yearly_sunlight_kwh_e  yearly_sunlight_kwh_w  yearly_sunlight_kwh_f  \\\n",
       "0           2.304186e+07           2.454188e+07           5.992748e+07   \n",
       "1           0.000000e+00           0.000000e+00           0.000000e+00   \n",
       "2           4.255421e+06           3.855701e+06           3.027457e+07   \n",
       "3           1.400185e+08           2.035497e+08           6.438137e+08   \n",
       "4           5.996178e+06           6.785506e+06           2.302204e+07   \n",
       "\n",
       "   yearly_sunlight_kwh_median  yearly_sunlight_kwh_total  \\\n",
       "0                 9215.539380               1.526861e+08   \n",
       "1                 5209.464685               1.243764e+04   \n",
       "2                11665.383398               4.485302e+07   \n",
       "3                15695.829395               1.277779e+09   \n",
       "4                 6551.267090               4.960652e+07   \n",
       "\n",
       "                        install_size_kw_buckets_json  \\\n",
       "0  [[0,2009],[5,2674],[10,1358],[15,696],[20,286]...   \n",
       "1                                            [[0,2]]   \n",
       "2  [[0,250],[5,308],[10,181],[15,82],[20,35],[25,...   \n",
       "3  [[0,5788],[5,13535],[10,10456],[15,5265],[20,2...   \n",
       "4  [[0,1270],[5,1351],[10,333],[15,80],[20,33],[2...   \n",
       "\n",
       "   carbon_offset_metric_tons  existing_installs_count  \n",
       "0               97025.991471                       11  \n",
       "1                   0.000000                        0  \n",
       "2               26330.806205                        0  \n",
       "3              621366.849401                       25  \n",
       "4               21479.144107                      107  \n",
       "\n",
       "[5 rows x 31 columns]"
      ]
     },
     "execution_count": 4,
     "metadata": {},
     "output_type": "execute_result"
    }
   ],
   "source": [
    "df_sun_roof.head() # Displying the first 5 rows of the sun roof data "
   ]
  },
  {
   "cell_type": "markdown",
   "metadata": {},
   "source": [
    "#### As can be seen for each state there might be several regions, and for each region many parameters related the sun roof project are reported"
   ]
  },
  {
   "cell_type": "code",
   "execution_count": 5,
   "metadata": {},
   "outputs": [
    {
     "data": {
      "text/html": [
       "<div>\n",
       "<style scoped>\n",
       "    .dataframe tbody tr th:only-of-type {\n",
       "        vertical-align: middle;\n",
       "    }\n",
       "\n",
       "    .dataframe tbody tr th {\n",
       "        vertical-align: top;\n",
       "    }\n",
       "\n",
       "    .dataframe thead th {\n",
       "        text-align: right;\n",
       "    }\n",
       "</style>\n",
       "<table border=\"1\" class=\"dataframe\">\n",
       "  <thead>\n",
       "    <tr style=\"text-align: right;\">\n",
       "      <th></th>\n",
       "      <th>Column name</th>\n",
       "      <th>Description</th>\n",
       "    </tr>\n",
       "  </thead>\n",
       "  <tbody>\n",
       "    <tr>\n",
       "      <th>0</th>\n",
       "      <td>region_name</td>\n",
       "      <td>Region name (census tract, zip code, city, cou...</td>\n",
       "    </tr>\n",
       "    <tr>\n",
       "      <th>1</th>\n",
       "      <td>count_qualified</td>\n",
       "      <td># of buildings in Google Maps that are suitabl...</td>\n",
       "    </tr>\n",
       "    <tr>\n",
       "      <th>2</th>\n",
       "      <td>percent_covered</td>\n",
       "      <td>% of buildings in Google Maps covered by Proje...</td>\n",
       "    </tr>\n",
       "    <tr>\n",
       "      <th>3</th>\n",
       "      <td>percent_qualified</td>\n",
       "      <td>% of buildings covered by Project Sunroof that...</td>\n",
       "    </tr>\n",
       "    <tr>\n",
       "      <th>4</th>\n",
       "      <td>yearly_sunlight_kwh_kw_threshold_avg</td>\n",
       "      <td>75% of the optimimum sunlight in the county co...</td>\n",
       "    </tr>\n",
       "    <tr>\n",
       "      <th>5</th>\n",
       "      <td>yearly_sunlight_kwh_total</td>\n",
       "      <td>total solar energy generation potential for al...</td>\n",
       "    </tr>\n",
       "    <tr>\n",
       "      <th>6</th>\n",
       "      <td>yearly_sunlight_kwh_f</td>\n",
       "      <td>total solar energy generation potential for fl...</td>\n",
       "    </tr>\n",
       "    <tr>\n",
       "      <th>7</th>\n",
       "      <td>yearly_sunlight_kwh_n</td>\n",
       "      <td>total solar energy generation potential for no...</td>\n",
       "    </tr>\n",
       "    <tr>\n",
       "      <th>8</th>\n",
       "      <td>yearly_sunlight_kwh_e</td>\n",
       "      <td>total solar energy generation potential for ea...</td>\n",
       "    </tr>\n",
       "    <tr>\n",
       "      <th>9</th>\n",
       "      <td>yearly_sunlight_kwh_s</td>\n",
       "      <td>total solar energy generation potential for so...</td>\n",
       "    </tr>\n",
       "    <tr>\n",
       "      <th>10</th>\n",
       "      <td>yearly_sunlight_kwh_w</td>\n",
       "      <td>total solar energy generation potential for we...</td>\n",
       "    </tr>\n",
       "    <tr>\n",
       "      <th>11</th>\n",
       "      <td>number_of_panels_total</td>\n",
       "      <td># of solar panels potential for all roof space...</td>\n",
       "    </tr>\n",
       "    <tr>\n",
       "      <th>12</th>\n",
       "      <td>number_of_panels_f</td>\n",
       "      <td># of solar panels potential for flat roof spac...</td>\n",
       "    </tr>\n",
       "    <tr>\n",
       "      <th>13</th>\n",
       "      <td>number_of_panels_n</td>\n",
       "      <td># of solar panels potential for north-facing r...</td>\n",
       "    </tr>\n",
       "    <tr>\n",
       "      <th>14</th>\n",
       "      <td>number_of_panels_e</td>\n",
       "      <td># of solar panels potential for east-facing ro...</td>\n",
       "    </tr>\n",
       "    <tr>\n",
       "      <th>15</th>\n",
       "      <td>number_of_panels_s</td>\n",
       "      <td># of solar panels potential for south-facing r...</td>\n",
       "    </tr>\n",
       "    <tr>\n",
       "      <th>16</th>\n",
       "      <td>number_of_panels_w</td>\n",
       "      <td># of solar panels potential for west-facing ro...</td>\n",
       "    </tr>\n",
       "    <tr>\n",
       "      <th>17</th>\n",
       "      <td>carbon_offset_metric_tons</td>\n",
       "      <td>The potential carbon dioxide abatement of the ...</td>\n",
       "    </tr>\n",
       "    <tr>\n",
       "      <th>18</th>\n",
       "      <td>number_of_panels_median</td>\n",
       "      <td># of panels that fit on the median roof</td>\n",
       "    </tr>\n",
       "    <tr>\n",
       "      <th>19</th>\n",
       "      <td>yearly_sunlight_kwh_median</td>\n",
       "      <td>kWh/kw/yr for the median roof, in DC (not AC) ...</td>\n",
       "    </tr>\n",
       "    <tr>\n",
       "      <th>20</th>\n",
       "      <td>install_size_kw_buckets_json</td>\n",
       "      <td># of buildings with potential for various inst...</td>\n",
       "    </tr>\n",
       "    <tr>\n",
       "      <th>21</th>\n",
       "      <td>lat_avg</td>\n",
       "      <td>average latitude for that region</td>\n",
       "    </tr>\n",
       "    <tr>\n",
       "      <th>22</th>\n",
       "      <td>lng_avg</td>\n",
       "      <td>average longitude for that region</td>\n",
       "    </tr>\n",
       "    <tr>\n",
       "      <th>23</th>\n",
       "      <td>lat_min</td>\n",
       "      <td>minimum latitude for that region</td>\n",
       "    </tr>\n",
       "    <tr>\n",
       "      <th>24</th>\n",
       "      <td>lng_min</td>\n",
       "      <td>minimum longitude for that region</td>\n",
       "    </tr>\n",
       "    <tr>\n",
       "      <th>25</th>\n",
       "      <td>lat_max</td>\n",
       "      <td>maximum latitude for that region</td>\n",
       "    </tr>\n",
       "    <tr>\n",
       "      <th>26</th>\n",
       "      <td>lng_max</td>\n",
       "      <td>maximum longitude for that region</td>\n",
       "    </tr>\n",
       "    <tr>\n",
       "      <th>27</th>\n",
       "      <td>state_name</td>\n",
       "      <td>Name of the state containing that region</td>\n",
       "    </tr>\n",
       "    <tr>\n",
       "      <th>28</th>\n",
       "      <td>kw_total</td>\n",
       "      <td># of kW of solar potential for all roof types ...</td>\n",
       "    </tr>\n",
       "    <tr>\n",
       "      <th>29</th>\n",
       "      <td>kw_median</td>\n",
       "      <td>kW of solar potential for the median building ...</td>\n",
       "    </tr>\n",
       "    <tr>\n",
       "      <th>30</th>\n",
       "      <td>existing_installs_count</td>\n",
       "      <td># of buildings estimated to have a solar insta...</td>\n",
       "    </tr>\n",
       "  </tbody>\n",
       "</table>\n",
       "</div>"
      ],
      "text/plain": [
       "                             Column name  \\\n",
       "0                            region_name   \n",
       "1                        count_qualified   \n",
       "2                        percent_covered   \n",
       "3                      percent_qualified   \n",
       "4   yearly_sunlight_kwh_kw_threshold_avg   \n",
       "5              yearly_sunlight_kwh_total   \n",
       "6                  yearly_sunlight_kwh_f   \n",
       "7                  yearly_sunlight_kwh_n   \n",
       "8                  yearly_sunlight_kwh_e   \n",
       "9                  yearly_sunlight_kwh_s   \n",
       "10                 yearly_sunlight_kwh_w   \n",
       "11                number_of_panels_total   \n",
       "12                    number_of_panels_f   \n",
       "13                    number_of_panels_n   \n",
       "14                    number_of_panels_e   \n",
       "15                    number_of_panels_s   \n",
       "16                    number_of_panels_w   \n",
       "17             carbon_offset_metric_tons   \n",
       "18               number_of_panels_median   \n",
       "19            yearly_sunlight_kwh_median   \n",
       "20          install_size_kw_buckets_json   \n",
       "21                               lat_avg   \n",
       "22                               lng_avg   \n",
       "23                               lat_min   \n",
       "24                               lng_min   \n",
       "25                               lat_max   \n",
       "26                               lng_max   \n",
       "27                            state_name   \n",
       "28                              kw_total   \n",
       "29                             kw_median   \n",
       "30               existing_installs_count   \n",
       "\n",
       "                                          Description  \n",
       "0   Region name (census tract, zip code, city, cou...  \n",
       "1   # of buildings in Google Maps that are suitabl...  \n",
       "2   % of buildings in Google Maps covered by Proje...  \n",
       "3   % of buildings covered by Project Sunroof that...  \n",
       "4   75% of the optimimum sunlight in the county co...  \n",
       "5   total solar energy generation potential for al...  \n",
       "6   total solar energy generation potential for fl...  \n",
       "7   total solar energy generation potential for no...  \n",
       "8   total solar energy generation potential for ea...  \n",
       "9   total solar energy generation potential for so...  \n",
       "10  total solar energy generation potential for we...  \n",
       "11  # of solar panels potential for all roof space...  \n",
       "12  # of solar panels potential for flat roof spac...  \n",
       "13  # of solar panels potential for north-facing r...  \n",
       "14  # of solar panels potential for east-facing ro...  \n",
       "15  # of solar panels potential for south-facing r...  \n",
       "16  # of solar panels potential for west-facing ro...  \n",
       "17  The potential carbon dioxide abatement of the ...  \n",
       "18            # of panels that fit on the median roof  \n",
       "19  kWh/kw/yr for the median roof, in DC (not AC) ...  \n",
       "20  # of buildings with potential for various inst...  \n",
       "21                   average latitude for that region  \n",
       "22                  average longitude for that region  \n",
       "23                   minimum latitude for that region  \n",
       "24                  minimum longitude for that region  \n",
       "25                   maximum latitude for that region  \n",
       "26                  maximum longitude for that region  \n",
       "27           Name of the state containing that region  \n",
       "28  # of kW of solar potential for all roof types ...  \n",
       "29  kW of solar potential for the median building ...  \n",
       "30  # of buildings estimated to have a solar insta...  "
      ]
     },
     "execution_count": 5,
     "metadata": {},
     "output_type": "execute_result"
    }
   ],
   "source": [
    "df_dscpt.rename(columns={'Field':'Column name'})# data description of each columnz"
   ]
  },
  {
   "cell_type": "code",
   "execution_count": 6,
   "metadata": {},
   "outputs": [
    {
     "name": "stdout",
     "output_type": "stream",
     "text": [
      "The are 31 columns in sun roof data set\n"
     ]
    }
   ],
   "source": [
    "print( 'The are {} columns in sun roof data set'.format(len(df_sun_roof.columns.to_list())))"
   ]
  },
  {
   "cell_type": "markdown",
   "metadata": {},
   "source": [
    "Exploring  the info of the data set"
   ]
  },
  {
   "cell_type": "code",
   "execution_count": 7,
   "metadata": {},
   "outputs": [
    {
     "name": "stdout",
     "output_type": "stream",
     "text": [
      "<class 'pandas.core.frame.DataFrame'>\n",
      "RangeIndex: 7930 entries, 0 to 7929\n",
      "Data columns (total 31 columns):\n",
      "region_name                             7928 non-null object\n",
      "state_name                              7929 non-null object\n",
      "lat_max                                 7930 non-null float64\n",
      "lat_min                                 7930 non-null float64\n",
      "lng_max                                 7930 non-null float64\n",
      "lng_min                                 7930 non-null float64\n",
      "lat_avg                                 7930 non-null float64\n",
      "lng_avg                                 7930 non-null float64\n",
      "yearly_sunlight_kwh_kw_threshold_avg    7929 non-null float64\n",
      "count_qualified                         7930 non-null int64\n",
      "percent_covered                         7930 non-null float64\n",
      "percent_qualified                       7930 non-null float64\n",
      "number_of_panels_n                      7930 non-null int64\n",
      "number_of_panels_s                      7930 non-null int64\n",
      "number_of_panels_e                      7930 non-null int64\n",
      "number_of_panels_w                      7930 non-null int64\n",
      "number_of_panels_f                      7930 non-null int64\n",
      "number_of_panels_median                 7899 non-null float64\n",
      "number_of_panels_total                  7899 non-null float64\n",
      "kw_median                               7899 non-null float64\n",
      "kw_total                                7899 non-null float64\n",
      "yearly_sunlight_kwh_n                   7930 non-null float64\n",
      "yearly_sunlight_kwh_s                   7930 non-null float64\n",
      "yearly_sunlight_kwh_e                   7930 non-null float64\n",
      "yearly_sunlight_kwh_w                   7930 non-null float64\n",
      "yearly_sunlight_kwh_f                   7930 non-null float64\n",
      "yearly_sunlight_kwh_median              7899 non-null float64\n",
      "yearly_sunlight_kwh_total               7899 non-null float64\n",
      "install_size_kw_buckets_json            7899 non-null object\n",
      "carbon_offset_metric_tons               7930 non-null float64\n",
      "existing_installs_count                 7930 non-null int64\n",
      "dtypes: float64(21), int64(7), object(3)\n",
      "memory usage: 1.9+ MB\n"
     ]
    }
   ],
   "source": [
    "df_sun_roof.info()"
   ]
  },
  {
   "cell_type": "markdown",
   "metadata": {},
   "source": [
    "####  As can be seen there is a mismatch in sun roof data, i.e most of sun roof data set have columns with around 7930 non null values, except some columns have  7899 non null values"
   ]
  },
  {
   "cell_type": "markdown",
   "metadata": {},
   "source": [
    "### Data wrangling "
   ]
  },
  {
   "cell_type": "markdown",
   "metadata": {},
   "source": [
    "As we have seen that some rows of sun roof data set have nan values, we are going to drop them"
   ]
  },
  {
   "cell_type": "code",
   "execution_count": 8,
   "metadata": {},
   "outputs": [],
   "source": [
    "df_sun_roof.dropna(inplace=True)"
   ]
  },
  {
   "cell_type": "markdown",
   "metadata": {},
   "source": [
    "Let's look to the data info again"
   ]
  },
  {
   "cell_type": "code",
   "execution_count": 9,
   "metadata": {},
   "outputs": [
    {
     "name": "stdout",
     "output_type": "stream",
     "text": [
      "<class 'pandas.core.frame.DataFrame'>\n",
      "Int64Index: 7897 entries, 2 to 7929\n",
      "Data columns (total 31 columns):\n",
      "region_name                             7897 non-null object\n",
      "state_name                              7897 non-null object\n",
      "lat_max                                 7897 non-null float64\n",
      "lat_min                                 7897 non-null float64\n",
      "lng_max                                 7897 non-null float64\n",
      "lng_min                                 7897 non-null float64\n",
      "lat_avg                                 7897 non-null float64\n",
      "lng_avg                                 7897 non-null float64\n",
      "yearly_sunlight_kwh_kw_threshold_avg    7897 non-null float64\n",
      "count_qualified                         7897 non-null int64\n",
      "percent_covered                         7897 non-null float64\n",
      "percent_qualified                       7897 non-null float64\n",
      "number_of_panels_n                      7897 non-null int64\n",
      "number_of_panels_s                      7897 non-null int64\n",
      "number_of_panels_e                      7897 non-null int64\n",
      "number_of_panels_w                      7897 non-null int64\n",
      "number_of_panels_f                      7897 non-null int64\n",
      "number_of_panels_median                 7897 non-null float64\n",
      "number_of_panels_total                  7897 non-null float64\n",
      "kw_median                               7897 non-null float64\n",
      "kw_total                                7897 non-null float64\n",
      "yearly_sunlight_kwh_n                   7897 non-null float64\n",
      "yearly_sunlight_kwh_s                   7897 non-null float64\n",
      "yearly_sunlight_kwh_e                   7897 non-null float64\n",
      "yearly_sunlight_kwh_w                   7897 non-null float64\n",
      "yearly_sunlight_kwh_f                   7897 non-null float64\n",
      "yearly_sunlight_kwh_median              7897 non-null float64\n",
      "yearly_sunlight_kwh_total               7897 non-null float64\n",
      "install_size_kw_buckets_json            7897 non-null object\n",
      "carbon_offset_metric_tons               7897 non-null float64\n",
      "existing_installs_count                 7897 non-null int64\n",
      "dtypes: float64(21), int64(7), object(3)\n",
      "memory usage: 1.9+ MB\n"
     ]
    }
   ],
   "source": [
    "df_sun_roof.info()"
   ]
  },
  {
   "cell_type": "markdown",
   "metadata": {},
   "source": [
    "####  Right now, the columns all have the same amount of non-null values which is 7897"
   ]
  },
  {
   "cell_type": "markdown",
   "metadata": {},
   "source": [
    "Let's see how many US states are available in the data set"
   ]
  },
  {
   "cell_type": "code",
   "execution_count": 10,
   "metadata": {},
   "outputs": [
    {
     "name": "stdout",
     "output_type": "stream",
     "text": [
      "There are 51 states in sun roof data set\n"
     ]
    }
   ],
   "source": [
    "print('There are {} states in sun roof data set'.format(len(df_sun_roof['state_name'].unique())))"
   ]
  },
  {
   "cell_type": "markdown",
   "metadata": {},
   "source": [
    "Let's see how many regions are available in the data set for each state"
   ]
  },
  {
   "cell_type": "code",
   "execution_count": 11,
   "metadata": {},
   "outputs": [
    {
     "data": {
      "text/plain": [
       "Text(0, 0.5, 'number of regions')"
      ]
     },
     "execution_count": 11,
     "metadata": {},
     "output_type": "execute_result"
    },
    {
     "data": {
      "image/png": "[encoded data removed]",
      "text/plain": [
       "<Figure size 1008x576 with 1 Axes>"
      ]
     },
     "metadata": {
      "needs_background": "light"
     },
     "output_type": "display_data"
    }
   ],
   "source": [
    "df_sun_roof.groupby('state_name')['region_name'].count().to_frame('region_count').plot(kind='bar', figsize=(14,8))\n",
    "plt.ylabel('number of regions')"
   ]
  },
  {
   "cell_type": "markdown",
   "metadata": {},
   "source": [
    "#### As can be seen California stand out in terms of number of regions available in sun roof data (approx 700 regions), followed by Florida, New York and Pensylvania\n",
    "\n",
    "#### Besed on these results, we've decided to concentrate our analysis only on California state as it has the highest number of regions covered by sun roof project."
   ]
  },
  {
   "cell_type": "markdown",
   "metadata": {},
   "source": [
    "Let's slice the sun roof data set on select only data relevant to California state"
   ]
  },
  {
   "cell_type": "code",
   "execution_count": 12,
   "metadata": {},
   "outputs": [],
   "source": [
    "df_sun_roof_ca = df_sun_roof[df_sun_roof['state_name']=='California']"
   ]
  },
  {
   "cell_type": "code",
   "execution_count": 13,
   "metadata": {},
   "outputs": [
    {
     "data": {
      "text/html": [
       "<div>\n",
       "<style scoped>\n",
       "    .dataframe tbody tr th:only-of-type {\n",
       "        vertical-align: middle;\n",
       "    }\n",
       "\n",
       "    .dataframe tbody tr th {\n",
       "        vertical-align: top;\n",
       "    }\n",
       "\n",
       "    .dataframe thead th {\n",
       "        text-align: right;\n",
       "    }\n",
       "</style>\n",
       "<table border=\"1\" class=\"dataframe\">\n",
       "  <thead>\n",
       "    <tr style=\"text-align: right;\">\n",
       "      <th></th>\n",
       "      <th>region_name</th>\n",
       "      <th>state_name</th>\n",
       "      <th>lat_max</th>\n",
       "      <th>lat_min</th>\n",
       "      <th>lng_max</th>\n",
       "      <th>lng_min</th>\n",
       "      <th>lat_avg</th>\n",
       "      <th>lng_avg</th>\n",
       "      <th>yearly_sunlight_kwh_kw_threshold_avg</th>\n",
       "      <th>count_qualified</th>\n",
       "      <th>...</th>\n",
       "      <th>yearly_sunlight_kwh_n</th>\n",
       "      <th>yearly_sunlight_kwh_s</th>\n",
       "      <th>yearly_sunlight_kwh_e</th>\n",
       "      <th>yearly_sunlight_kwh_w</th>\n",
       "      <th>yearly_sunlight_kwh_f</th>\n",
       "      <th>yearly_sunlight_kwh_median</th>\n",
       "      <th>yearly_sunlight_kwh_total</th>\n",
       "      <th>install_size_kw_buckets_json</th>\n",
       "      <th>carbon_offset_metric_tons</th>\n",
       "      <th>existing_installs_count</th>\n",
       "    </tr>\n",
       "  </thead>\n",
       "  <tbody>\n",
       "    <tr>\n",
       "      <th>7</th>\n",
       "      <td>Acampo</td>\n",
       "      <td>California</td>\n",
       "      <td>38.241483</td>\n",
       "      <td>38.149618</td>\n",
       "      <td>-121.110576</td>\n",
       "      <td>-121.418479</td>\n",
       "      <td>38.202210</td>\n",
       "      <td>-121.220433</td>\n",
       "      <td>1227.400000</td>\n",
       "      <td>426</td>\n",
       "      <td>...</td>\n",
       "      <td>8.103408e+05</td>\n",
       "      <td>3.371186e+06</td>\n",
       "      <td>1.649035e+06</td>\n",
       "      <td>2.355773e+06</td>\n",
       "      <td>8.871234e+06</td>\n",
       "      <td>16178.506543</td>\n",
       "      <td>1.705757e+07</td>\n",
       "      <td>[[0,88],[5,104],[10,64],[15,48],[20,36],[25,19...</td>\n",
       "      <td>4650.422573</td>\n",
       "      <td>13</td>\n",
       "    </tr>\n",
       "    <tr>\n",
       "      <th>18</th>\n",
       "      <td>Adelanto</td>\n",
       "      <td>California</td>\n",
       "      <td>34.650980</td>\n",
       "      <td>34.507017</td>\n",
       "      <td>-117.384277</td>\n",
       "      <td>-117.644424</td>\n",
       "      <td>34.542087</td>\n",
       "      <td>-117.425691</td>\n",
       "      <td>1447.550000</td>\n",
       "      <td>5734</td>\n",
       "      <td>...</td>\n",
       "      <td>2.963809e+06</td>\n",
       "      <td>3.703843e+07</td>\n",
       "      <td>2.262935e+07</td>\n",
       "      <td>3.094269e+07</td>\n",
       "      <td>1.873515e+07</td>\n",
       "      <td>15854.722742</td>\n",
       "      <td>1.123094e+08</td>\n",
       "      <td>[[0,745],[5,2454],[10,1602],[15,609],[20,181],...</td>\n",
       "      <td>30619.036114</td>\n",
       "      <td>12</td>\n",
       "    </tr>\n",
       "    <tr>\n",
       "      <th>26</th>\n",
       "      <td>Agoura Hills</td>\n",
       "      <td>California</td>\n",
       "      <td>34.181139</td>\n",
       "      <td>34.081214</td>\n",
       "      <td>-118.706538</td>\n",
       "      <td>-118.832142</td>\n",
       "      <td>34.150608</td>\n",
       "      <td>-118.762603</td>\n",
       "      <td>1285.221967</td>\n",
       "      <td>6729</td>\n",
       "      <td>...</td>\n",
       "      <td>1.103380e+07</td>\n",
       "      <td>4.770091e+07</td>\n",
       "      <td>3.650439e+07</td>\n",
       "      <td>3.953468e+07</td>\n",
       "      <td>5.775215e+07</td>\n",
       "      <td>19416.851941</td>\n",
       "      <td>1.925259e+08</td>\n",
       "      <td>[[0,559],[5,1689],[10,1843],[15,1225],[20,597]...</td>\n",
       "      <td>52488.541466</td>\n",
       "      <td>457</td>\n",
       "    </tr>\n",
       "    <tr>\n",
       "      <th>39</th>\n",
       "      <td>Alameda</td>\n",
       "      <td>California</td>\n",
       "      <td>37.794489</td>\n",
       "      <td>37.719660</td>\n",
       "      <td>-122.224860</td>\n",
       "      <td>-122.325079</td>\n",
       "      <td>37.762103</td>\n",
       "      <td>-122.254871</td>\n",
       "      <td>1229.950000</td>\n",
       "      <td>16065</td>\n",
       "      <td>...</td>\n",
       "      <td>1.787365e+07</td>\n",
       "      <td>6.077814e+07</td>\n",
       "      <td>4.997127e+07</td>\n",
       "      <td>4.961848e+07</td>\n",
       "      <td>2.131905e+08</td>\n",
       "      <td>10014.910840</td>\n",
       "      <td>3.914320e+08</td>\n",
       "      <td>[[0,4807],[5,6116],[10,2460],[15,884],[20,402]...</td>\n",
       "      <td>106306.223473</td>\n",
       "      <td>208</td>\n",
       "    </tr>\n",
       "    <tr>\n",
       "      <th>40</th>\n",
       "      <td>Alamo</td>\n",
       "      <td>California</td>\n",
       "      <td>37.902786</td>\n",
       "      <td>37.809814</td>\n",
       "      <td>-121.937612</td>\n",
       "      <td>-122.066855</td>\n",
       "      <td>37.856852</td>\n",
       "      <td>-122.018646</td>\n",
       "      <td>1237.600000</td>\n",
       "      <td>5338</td>\n",
       "      <td>...</td>\n",
       "      <td>8.360806e+06</td>\n",
       "      <td>3.997040e+07</td>\n",
       "      <td>2.225215e+07</td>\n",
       "      <td>3.216661e+07</td>\n",
       "      <td>1.061962e+07</td>\n",
       "      <td>17009.517053</td>\n",
       "      <td>1.133696e+08</td>\n",
       "      <td>[[0,711],[5,1328],[10,1250],[15,826],[20,561],...</td>\n",
       "      <td>30908.068122</td>\n",
       "      <td>999</td>\n",
       "    </tr>\n",
       "  </tbody>\n",
       "</table>\n",
       "<p>5 rows × 31 columns</p>\n",
       "</div>"
      ],
      "text/plain": [
       "     region_name  state_name    lat_max    lat_min     lng_max     lng_min  \\\n",
       "7         Acampo  California  38.241483  38.149618 -121.110576 -121.418479   \n",
       "18      Adelanto  California  34.650980  34.507017 -117.384277 -117.644424   \n",
       "26  Agoura Hills  California  34.181139  34.081214 -118.706538 -118.832142   \n",
       "39       Alameda  California  37.794489  37.719660 -122.224860 -122.325079   \n",
       "40         Alamo  California  37.902786  37.809814 -121.937612 -122.066855   \n",
       "\n",
       "      lat_avg     lng_avg  yearly_sunlight_kwh_kw_threshold_avg  \\\n",
       "7   38.202210 -121.220433                           1227.400000   \n",
       "18  34.542087 -117.425691                           1447.550000   \n",
       "26  34.150608 -118.762603                           1285.221967   \n",
       "39  37.762103 -122.254871                           1229.950000   \n",
       "40  37.856852 -122.018646                           1237.600000   \n",
       "\n",
       "    count_qualified  ...  yearly_sunlight_kwh_n  yearly_sunlight_kwh_s  \\\n",
       "7               426  ...           8.103408e+05           3.371186e+06   \n",
       "18             5734  ...           2.963809e+06           3.703843e+07   \n",
       "26             6729  ...           1.103380e+07           4.770091e+07   \n",
       "39            16065  ...           1.787365e+07           6.077814e+07   \n",
       "40             5338  ...           8.360806e+06           3.997040e+07   \n",
       "\n",
       "    yearly_sunlight_kwh_e  yearly_sunlight_kwh_w  yearly_sunlight_kwh_f  \\\n",
       "7            1.649035e+06           2.355773e+06           8.871234e+06   \n",
       "18           2.262935e+07           3.094269e+07           1.873515e+07   \n",
       "26           3.650439e+07           3.953468e+07           5.775215e+07   \n",
       "39           4.997127e+07           4.961848e+07           2.131905e+08   \n",
       "40           2.225215e+07           3.216661e+07           1.061962e+07   \n",
       "\n",
       "    yearly_sunlight_kwh_median  yearly_sunlight_kwh_total  \\\n",
       "7                 16178.506543               1.705757e+07   \n",
       "18                15854.722742               1.123094e+08   \n",
       "26                19416.851941               1.925259e+08   \n",
       "39                10014.910840               3.914320e+08   \n",
       "40                17009.517053               1.133696e+08   \n",
       "\n",
       "                         install_size_kw_buckets_json  \\\n",
       "7   [[0,88],[5,104],[10,64],[15,48],[20,36],[25,19...   \n",
       "18  [[0,745],[5,2454],[10,1602],[15,609],[20,181],...   \n",
       "26  [[0,559],[5,1689],[10,1843],[15,1225],[20,597]...   \n",
       "39  [[0,4807],[5,6116],[10,2460],[15,884],[20,402]...   \n",
       "40  [[0,711],[5,1328],[10,1250],[15,826],[20,561],...   \n",
       "\n",
       "    carbon_offset_metric_tons  existing_installs_count  \n",
       "7                 4650.422573                       13  \n",
       "18               30619.036114                       12  \n",
       "26               52488.541466                      457  \n",
       "39              106306.223473                      208  \n",
       "40               30908.068122                      999  \n",
       "\n",
       "[5 rows x 31 columns]"
      ]
     },
     "execution_count": 13,
     "metadata": {},
     "output_type": "execute_result"
    }
   ],
   "source": [
    "df_sun_roof_ca.head()"
   ]
  },
  {
   "cell_type": "markdown",
   "metadata": {},
   "source": [
    "We drop columns which are not useful for our analaysis "
   ]
  },
  {
   "cell_type": "code",
   "execution_count": 14,
   "metadata": {},
   "outputs": [],
   "source": [
    "clm_drop = ['lat_max', 'lat_min', 'lng_max', 'lng_min', 'yearly_sunlight_kwh_kw_threshold_avg', 'percent_covered', 'percent_qualified', 'number_of_panels_n', 'number_of_panels_s', 'number_of_panels_e', 'number_of_panels_w', 'number_of_panels_f', 'number_of_panels_median', 'kw_median', 'yearly_sunlight_kwh_n', 'yearly_sunlight_kwh_s', 'yearly_sunlight_kwh_e', 'yearly_sunlight_kwh_w', 'yearly_sunlight_kwh_f', 'yearly_sunlight_kwh_median', 'yearly_sunlight_kwh_total', 'install_size_kw_buckets_json', 'carbon_offset_metric_tons', 'existing_installs_count']"
   ]
  },
  {
   "cell_type": "code",
   "execution_count": 15,
   "metadata": {},
   "outputs": [
    {
     "name": "stderr",
     "output_type": "stream",
     "text": [
      "/opt/conda/envs/Python36/lib/python3.6/site-packages/pandas/core/frame.py:3940: SettingWithCopyWarning: \n",
      "A value is trying to be set on a copy of a slice from a DataFrame\n",
      "\n",
      "See the caveats in the documentation: http://pandas.pydata.org/pandas-docs/stable/indexing.html#indexing-view-versus-copy\n",
      "  errors=errors)\n"
     ]
    }
   ],
   "source": [
    "df_sun_roof_ca.drop(clm_drop, axis=1, inplace=True)"
   ]
  },
  {
   "cell_type": "code",
   "execution_count": 16,
   "metadata": {},
   "outputs": [],
   "source": [
    "df_sun_roof_ca.reset_index(drop=True, inplace=True) # reset the indices after dropping "
   ]
  },
  {
   "cell_type": "code",
   "execution_count": 17,
   "metadata": {},
   "outputs": [
    {
     "name": "stderr",
     "output_type": "stream",
     "text": [
      "/opt/conda/envs/Python36/lib/python3.6/site-packages/pandas/core/frame.py:4025: SettingWithCopyWarning: \n",
      "A value is trying to be set on a copy of a slice from a DataFrame\n",
      "\n",
      "See the caveats in the documentation: http://pandas.pydata.org/pandas-docs/stable/indexing.html#indexing-view-versus-copy\n",
      "  return super(DataFrame, self).rename(**kwargs)\n"
     ]
    },
    {
     "data": {
      "text/html": [
       "<div>\n",
       "<style scoped>\n",
       "    .dataframe tbody tr th:only-of-type {\n",
       "        vertical-align: middle;\n",
       "    }\n",
       "\n",
       "    .dataframe tbody tr th {\n",
       "        vertical-align: top;\n",
       "    }\n",
       "\n",
       "    .dataframe thead th {\n",
       "        text-align: right;\n",
       "    }\n",
       "</style>\n",
       "<table border=\"1\" class=\"dataframe\">\n",
       "  <thead>\n",
       "    <tr style=\"text-align: right;\">\n",
       "      <th></th>\n",
       "      <th>region_name</th>\n",
       "      <th>state_name</th>\n",
       "      <th>latitude</th>\n",
       "      <th>longitude</th>\n",
       "      <th>count_qualified</th>\n",
       "      <th>number_of_panels_total</th>\n",
       "      <th>kw_total</th>\n",
       "    </tr>\n",
       "  </thead>\n",
       "  <tbody>\n",
       "    <tr>\n",
       "      <th>0</th>\n",
       "      <td>Acampo</td>\n",
       "      <td>California</td>\n",
       "      <td>38.202210</td>\n",
       "      <td>-121.220433</td>\n",
       "      <td>426</td>\n",
       "      <td>46927.0</td>\n",
       "      <td>11731.75</td>\n",
       "    </tr>\n",
       "    <tr>\n",
       "      <th>1</th>\n",
       "      <td>Adelanto</td>\n",
       "      <td>California</td>\n",
       "      <td>34.542087</td>\n",
       "      <td>-117.425691</td>\n",
       "      <td>5734</td>\n",
       "      <td>261242.0</td>\n",
       "      <td>65310.50</td>\n",
       "    </tr>\n",
       "    <tr>\n",
       "      <th>2</th>\n",
       "      <td>Agoura Hills</td>\n",
       "      <td>California</td>\n",
       "      <td>34.150608</td>\n",
       "      <td>-118.762603</td>\n",
       "      <td>6729</td>\n",
       "      <td>506106.0</td>\n",
       "      <td>126526.50</td>\n",
       "    </tr>\n",
       "    <tr>\n",
       "      <th>3</th>\n",
       "      <td>Alameda</td>\n",
       "      <td>California</td>\n",
       "      <td>37.762103</td>\n",
       "      <td>-122.254871</td>\n",
       "      <td>16065</td>\n",
       "      <td>1092989.0</td>\n",
       "      <td>273247.25</td>\n",
       "    </tr>\n",
       "    <tr>\n",
       "      <th>4</th>\n",
       "      <td>Alamo</td>\n",
       "      <td>California</td>\n",
       "      <td>37.856852</td>\n",
       "      <td>-122.018646</td>\n",
       "      <td>5338</td>\n",
       "      <td>324371.0</td>\n",
       "      <td>81092.75</td>\n",
       "    </tr>\n",
       "  </tbody>\n",
       "</table>\n",
       "</div>"
      ],
      "text/plain": [
       "    region_name  state_name   latitude   longitude  count_qualified  \\\n",
       "0        Acampo  California  38.202210 -121.220433              426   \n",
       "1      Adelanto  California  34.542087 -117.425691             5734   \n",
       "2  Agoura Hills  California  34.150608 -118.762603             6729   \n",
       "3       Alameda  California  37.762103 -122.254871            16065   \n",
       "4         Alamo  California  37.856852 -122.018646             5338   \n",
       "\n",
       "   number_of_panels_total   kw_total  \n",
       "0                 46927.0   11731.75  \n",
       "1                261242.0   65310.50  \n",
       "2                506106.0  126526.50  \n",
       "3               1092989.0  273247.25  \n",
       "4                324371.0   81092.75  "
      ]
     },
     "execution_count": 17,
     "metadata": {},
     "output_type": "execute_result"
    }
   ],
   "source": [
    "df_sun_roof_ca.rename(columns = {'lat_avg':'latitude', 'lng_avg':'longitude'}, inplace=True)\n",
    "df_sun_roof_ca.head()"
   ]
  },
  {
   "cell_type": "code",
   "execution_count": 54,
   "metadata": {},
   "outputs": [
    {
     "data": {
      "image/png": "[encoded data removed]",
      "text/plain": [
       "<Figure size 900x900 with 30 Axes>"
      ]
     },
     "metadata": {
      "needs_background": "light"
     },
     "output_type": "display_data"
    }
   ],
   "source": [
    "#Plot correlation of this parameters with seaborn to find out any linear dependency\n",
    "import seaborn as sns\n",
    "g = sns.pairplot(df_sun_roof_ca)"
   ]
  },
  {
   "cell_type": "markdown",
   "metadata": {},
   "source": [
    "1-Looking the correlation plot, we can observe linear dependency between variables. Such as num_of_panel and kw_total .Vs count_qualified.\n",
    "\n"
   ]
  },
  {
   "cell_type": "markdown",
   "metadata": {},
   "source": [
    "2- Interestingly lookinng at the correlation between the latitude and logitude, we can infer that the data are measured in regions from south toward north-west."
   ]
  },
  {
   "cell_type": "markdown",
   "metadata": {},
   "source": [
    "We use Foursquare API to explore the available categories of each region"
   ]
  },
  {
   "cell_type": "markdown",
   "metadata": {},
   "source": [
    "#### Define Foursquare Credentials and Version"
   ]
  },
  {
   "cell_type": "code",
   "execution_count": 19,
   "metadata": {},
   "outputs": [
    {
     "name": "stdout",
     "output_type": "stream",
     "text": [
      "Your credentails:\n",
      "CLIENT_ID: X5NE31T5Y1GPRXLYUJRXTXYJWNG3CFCFZOPDB4VRZGDGBK5W\n",
      "CLIENT_SECRET:TN11F1W0PA5KSQJCV0R003T5KOXGDD04MQK3VRQL10CFHXGI\n"
     ]
    }
   ],
   "source": [
    "CLIENT_ID = 'X5NE31T5Y1GPRXLYUJRXTXYJWNG3CFCFZOPDB4VRZGDGBK5W' # your Foursquare ID\n",
    "CLIENT_SECRET = 'TN11F1W0PA5KSQJCV0R003T5KOXGDD04MQK3VRQL10CFHXGI' # your Foursquare Secret\n",
    "VERSION = '20180605' # Foursquare API version\n",
    "\n",
    "print('Your credentails:')\n",
    "print('CLIENT_ID: ' + CLIENT_ID)\n",
    "print('CLIENT_SECRET:' + CLIENT_SECRET)"
   ]
  },
  {
   "cell_type": "markdown",
   "metadata": {},
   "source": [
    "#### Let's explore the first region name in our dataframe."
   ]
  },
  {
   "cell_type": "code",
   "execution_count": 20,
   "metadata": {},
   "outputs": [
    {
     "data": {
      "text/plain": [
       "'Acampo'"
      ]
     },
     "execution_count": 20,
     "metadata": {},
     "output_type": "execute_result"
    }
   ],
   "source": [
    "df_sun_roof_ca.loc[0, 'region_name']"
   ]
  },
  {
   "cell_type": "markdown",
   "metadata": {},
   "source": [
    "Get the neighborhood's latitude and longitude values."
   ]
  },
  {
   "cell_type": "code",
   "execution_count": 21,
   "metadata": {},
   "outputs": [
    {
     "name": "stdout",
     "output_type": "stream",
     "text": [
      "Latitude and longitude values of Agoura Hills are 34.150608352711025, -118.76260270442972.\n"
     ]
    }
   ],
   "source": [
    "neighborhood_latitude = df_sun_roof_ca.loc[2, 'latitude'] # neighborhood latitude value\n",
    "neighborhood_longitude = df_sun_roof_ca.loc[2, 'longitude'] # neighborhood longitude value\n",
    "\n",
    "neighborhood_name =df_sun_roof_ca.loc[2, 'region_name'] # neighborhood name\n",
    "\n",
    "print('Latitude and longitude values of {} are {}, {}.'.format(neighborhood_name, \n",
    "                                                               neighborhood_latitude, \n",
    "                                                               neighborhood_longitude))"
   ]
  },
  {
   "cell_type": "markdown",
   "metadata": {},
   "source": [
    "#### Now, let's get the top 100 venues that are in Acampo region within a radius of 500 meters."
   ]
  },
  {
   "cell_type": "code",
   "execution_count": 22,
   "metadata": {},
   "outputs": [
    {
     "data": {
      "text/plain": [
       "'https://api.foursquare.com/v2/venues/explore?&client_id=X5NE31T5Y1GPRXLYUJRXTXYJWNG3CFCFZOPDB4VRZGDGBK5W&client_secret=TN11F1W0PA5KSQJCV0R003T5KOXGDD04MQK3VRQL10CFHXGI&v=20180605&ll=34.150608352711025,-118.76260270442972&radius=500&limit=50'"
      ]
     },
     "execution_count": 22,
     "metadata": {},
     "output_type": "execute_result"
    }
   ],
   "source": [
    "# type your answer here\n",
    "LIMIT = 50\n",
    "radius= 500\n",
    "\n",
    "url = 'https://api.foursquare.com/v2/venues/explore?&client_id={}&client_secret={}&v={}&ll={},{}&radius={}&limit={}'.format(\n",
    "    CLIENT_ID, \n",
    "    CLIENT_SECRET, \n",
    "    VERSION, \n",
    "    neighborhood_latitude, \n",
    "    neighborhood_longitude, \n",
    "    radius, \n",
    "    LIMIT)\n",
    "url\n"
   ]
  },
  {
   "cell_type": "code",
   "execution_count": 23,
   "metadata": {},
   "outputs": [
    {
     "data": {
      "text/plain": [
       "dict_keys(['meta', 'response'])"
      ]
     },
     "execution_count": 23,
     "metadata": {},
     "output_type": "execute_result"
    }
   ],
   "source": [
    "import requests # library to handle requests\n",
    "from pandas.io.json import json_normalize # tranform JSON file into a pandas dataframe\n",
    "results = requests.get(url).json()\n",
    "results.keys()"
   ]
  },
  {
   "cell_type": "code",
   "execution_count": 24,
   "metadata": {},
   "outputs": [],
   "source": [
    "# function that extracts the category of the venue\n",
    "def get_category_type(row):\n",
    "    try:\n",
    "        categories_list = row['categories']\n",
    "    except:\n",
    "        categories_list = row['venue.categories']\n",
    "        \n",
    "    if len(categories_list) == 0:\n",
    "        return None\n",
    "    else:\n",
    "        return categories_list[0]['name']"
   ]
  },
  {
   "cell_type": "code",
   "execution_count": 25,
   "metadata": {},
   "outputs": [
    {
     "data": {
      "text/plain": [
       "{'meta': {'code': 200, 'requestId': '5d8cfdccf1110b0038ac08e6'},\n",
       " 'response': {'suggestedFilters': {'header': 'Tap to show:',\n",
       "   'filters': [{'name': 'Open now', 'key': 'openNow'}]},\n",
       "  'headerLocation': 'Agoura Hills',\n",
       "  'headerFullLocation': 'Agoura Hills',\n",
       "  'headerLocationGranularity': 'city',\n",
       "  'totalResults': 14,\n",
       "  'suggestedBounds': {'ne': {'lat': 34.15510835721103,\n",
       "    'lng': -118.7571752111057},\n",
       "   'sw': {'lat': 34.14610834821102, 'lng': -118.76803019775375}},\n",
       "  'groups': [{'type': 'Recommended Places',\n",
       "    'name': 'recommended',\n",
       "    'items': [{'reasons': {'count': 0,\n",
       "       'items': [{'summary': 'This spot is popular',\n",
       "         'type': 'general',\n",
       "         'reasonName': 'globalInteractionReason'}]},\n",
       "      'venue': {'id': '4b197d20f964a52041de23e3',\n",
       "       'name': 'Italia Deli & Bakery',\n",
       "       'location': {'address': '5657 Kanan Rd',\n",
       "        'crossStreet': 'at Thousand Oaks Blvd',\n",
       "        'lat': 34.153098970168415,\n",
       "        'lng': -118.75903668039842,\n",
       "        'labeledLatLngs': [{'label': 'display',\n",
       "          'lat': 34.153098970168415,\n",
       "          'lng': -118.75903668039842}],\n",
       "        'distance': 429,\n",
       "        'postalCode': '91301',\n",
       "        'cc': 'US',\n",
       "        'city': 'Agoura Hills',\n",
       "        'state': 'CA',\n",
       "        'country': 'United States',\n",
       "        'formattedAddress': ['5657 Kanan Rd (at Thousand Oaks Blvd)',\n",
       "         'Agoura Hills, CA 91301',\n",
       "         'United States']},\n",
       "       'categories': [{'id': '4bf58dd8d48988d146941735',\n",
       "         'name': 'Deli / Bodega',\n",
       "         'pluralName': 'Delis / Bodegas',\n",
       "         'shortName': 'Deli / Bodega',\n",
       "         'icon': {'prefix': 'https://ss3.4sqi.net/img/categories_v2/food/deli_',\n",
       "          'suffix': '.png'},\n",
       "         'primary': True}],\n",
       "       'photos': {'count': 0, 'groups': []}},\n",
       "      'referralId': 'e-0-4b197d20f964a52041de23e3-0'},\n",
       "     {'reasons': {'count': 0,\n",
       "       'items': [{'summary': 'This spot is popular',\n",
       "         'type': 'general',\n",
       "         'reasonName': 'globalInteractionReason'}]},\n",
       "      'venue': {'id': '4b2c57e0f964a52013c624e3',\n",
       "       'name': 'Sushi Raku',\n",
       "       'location': {'address': '5190 Kanan Rd',\n",
       "        'crossStreet': 'Canwood',\n",
       "        'lat': 34.14823001578954,\n",
       "        'lng': -118.76016340093447,\n",
       "        'labeledLatLngs': [{'label': 'display',\n",
       "          'lat': 34.14823001578954,\n",
       "          'lng': -118.76016340093447}],\n",
       "        'distance': 347,\n",
       "        'postalCode': '91301',\n",
       "        'cc': 'US',\n",
       "        'city': 'Agoura Hills',\n",
       "        'state': 'CA',\n",
       "        'country': 'United States',\n",
       "        'formattedAddress': ['5190 Kanan Rd (Canwood)',\n",
       "         'Agoura Hills, CA 91301',\n",
       "         'United States']},\n",
       "       'categories': [{'id': '4bf58dd8d48988d1d2941735',\n",
       "         'name': 'Sushi Restaurant',\n",
       "         'pluralName': 'Sushi Restaurants',\n",
       "         'shortName': 'Sushi',\n",
       "         'icon': {'prefix': 'https://ss3.4sqi.net/img/categories_v2/food/sushi_',\n",
       "          'suffix': '.png'},\n",
       "         'primary': True}],\n",
       "       'photos': {'count': 0, 'groups': []}},\n",
       "      'referralId': 'e-0-4b2c57e0f964a52013c624e3-1'},\n",
       "     {'reasons': {'count': 0,\n",
       "       'items': [{'summary': 'This spot is popular',\n",
       "         'type': 'general',\n",
       "         'reasonName': 'globalInteractionReason'}]},\n",
       "      'venue': {'id': '540e0d8d498e5959090ea551',\n",
       "       'name': 'Lal Mirch',\n",
       "       'location': {'lat': 34.14782182958774,\n",
       "        'lng': -118.76053609056241,\n",
       "        'labeledLatLngs': [{'label': 'display',\n",
       "          'lat': 34.14782182958774,\n",
       "          'lng': -118.76053609056241}],\n",
       "        'distance': 363,\n",
       "        'postalCode': '91301',\n",
       "        'cc': 'US',\n",
       "        'city': 'Agoura Hills',\n",
       "        'state': 'CA',\n",
       "        'country': 'United States',\n",
       "        'formattedAddress': ['Agoura Hills, CA 91301', 'United States']},\n",
       "       'categories': [{'id': '4bf58dd8d48988d10f941735',\n",
       "         'name': 'Indian Restaurant',\n",
       "         'pluralName': 'Indian Restaurants',\n",
       "         'shortName': 'Indian',\n",
       "         'icon': {'prefix': 'https://ss3.4sqi.net/img/categories_v2/food/indian_',\n",
       "          'suffix': '.png'},\n",
       "         'primary': True}],\n",
       "       'delivery': {'id': '332297',\n",
       "        'url': 'https://www.grubhub.com/restaurant/lal-mirch-indian-restaurant-5146-kanan-rd-agoura-hills/332297?affiliate=1131&utm_source=foursquare-affiliate-network&utm_medium=affiliate&utm_campaign=1131&utm_content=332297',\n",
       "        'provider': {'name': 'grubhub',\n",
       "         'icon': {'prefix': 'https://fastly.4sqi.net/img/general/cap/',\n",
       "          'sizes': [40, 50],\n",
       "          'name': '/delivery_provider_grubhub_20180129.png'}}},\n",
       "       'photos': {'count': 0, 'groups': []}},\n",
       "      'referralId': 'e-0-540e0d8d498e5959090ea551-2'},\n",
       "     {'reasons': {'count': 0,\n",
       "       'items': [{'summary': 'This spot is popular',\n",
       "         'type': 'general',\n",
       "         'reasonName': 'globalInteractionReason'}]},\n",
       "      'venue': {'id': '4bc4d4192a89ef3bcde3f688',\n",
       "       'name': 'Taco Bell',\n",
       "       'location': {'address': '5589 Kanan Rd',\n",
       "        'crossStreet': 'off Thousand Oaks Blvd.',\n",
       "        'lat': 34.15170040022546,\n",
       "        'lng': -118.75871918138898,\n",
       "        'labeledLatLngs': [{'label': 'display',\n",
       "          'lat': 34.15170040022546,\n",
       "          'lng': -118.75871918138898}],\n",
       "        'distance': 377,\n",
       "        'postalCode': '91301',\n",
       "        'cc': 'US',\n",
       "        'city': 'Agoura Hills',\n",
       "        'state': 'CA',\n",
       "        'country': 'United States',\n",
       "        'formattedAddress': ['5589 Kanan Rd (off Thousand Oaks Blvd.)',\n",
       "         'Agoura Hills, CA 91301',\n",
       "         'United States']},\n",
       "       'categories': [{'id': '4bf58dd8d48988d16e941735',\n",
       "         'name': 'Fast Food Restaurant',\n",
       "         'pluralName': 'Fast Food Restaurants',\n",
       "         'shortName': 'Fast Food',\n",
       "         'icon': {'prefix': 'https://ss3.4sqi.net/img/categories_v2/food/fastfood_',\n",
       "          'suffix': '.png'},\n",
       "         'primary': True}],\n",
       "       'delivery': {'id': '918020',\n",
       "        'url': 'https://www.grubhub.com/restaurant/taco-bell-5589-kanan-road-agoura-hills/918020?affiliate=1131&utm_source=foursquare-affiliate-network&utm_medium=affiliate&utm_campaign=1131&utm_content=918020',\n",
       "        'provider': {'name': 'grubhub',\n",
       "         'icon': {'prefix': 'https://fastly.4sqi.net/img/general/cap/',\n",
       "          'sizes': [40, 50],\n",
       "          'name': '/delivery_provider_grubhub_20180129.png'}}},\n",
       "       'photos': {'count': 0, 'groups': []}},\n",
       "      'referralId': 'e-0-4bc4d4192a89ef3bcde3f688-3'},\n",
       "     {'reasons': {'count': 0,\n",
       "       'items': [{'summary': 'This spot is popular',\n",
       "         'type': 'general',\n",
       "         'reasonName': 'globalInteractionReason'}]},\n",
       "      'venue': {'id': '4b4940a7f964a520856b26e3',\n",
       "       'name': 'CVS pharmacy',\n",
       "       'location': {'address': '5667 Kanan Rd',\n",
       "        'lat': 34.152484860253445,\n",
       "        'lng': -118.75875794515909,\n",
       "        'labeledLatLngs': [{'label': 'display',\n",
       "          'lat': 34.152484860253445,\n",
       "          'lng': -118.75875794515909}],\n",
       "        'distance': 411,\n",
       "        'postalCode': '91301',\n",
       "        'cc': 'US',\n",
       "        'neighborhood': 'Downtown Agoura Hills',\n",
       "        'city': 'Agoura Hills',\n",
       "        'state': 'CA',\n",
       "        'country': 'United States',\n",
       "        'formattedAddress': ['5667 Kanan Rd',\n",
       "         'Agoura Hills, CA 91301',\n",
       "         'United States']},\n",
       "       'categories': [{'id': '4bf58dd8d48988d10f951735',\n",
       "         'name': 'Pharmacy',\n",
       "         'pluralName': 'Pharmacies',\n",
       "         'shortName': 'Pharmacy',\n",
       "         'icon': {'prefix': 'https://ss3.4sqi.net/img/categories_v2/shops/pharmacy_',\n",
       "          'suffix': '.png'},\n",
       "         'primary': True}],\n",
       "       'photos': {'count': 0, 'groups': []}},\n",
       "      'referralId': 'e-0-4b4940a7f964a520856b26e3-4'},\n",
       "     {'reasons': {'count': 0,\n",
       "       'items': [{'summary': 'This spot is popular',\n",
       "         'type': 'general',\n",
       "         'reasonName': 'globalInteractionReason'}]},\n",
       "      'venue': {'id': '4cfefd9766ee9eb07c3ca74e',\n",
       "       'name': 'U.S. Bank ATM',\n",
       "       'location': {'address': '5671 Kanan Rd',\n",
       "        'lat': 34.15363753067672,\n",
       "        'lng': -118.75884956586383,\n",
       "        'labeledLatLngs': [{'label': 'display',\n",
       "          'lat': 34.15363753067672,\n",
       "          'lng': -118.75884956586383}],\n",
       "        'distance': 482,\n",
       "        'postalCode': '91301',\n",
       "        'cc': 'US',\n",
       "        'city': 'Agoura Hills',\n",
       "        'state': 'CA',\n",
       "        'country': 'United States',\n",
       "        'formattedAddress': ['5671 Kanan Rd',\n",
       "         'Agoura Hills, CA 91301',\n",
       "         'United States']},\n",
       "       'categories': [{'id': '52f2ab2ebcbc57f1066b8b56',\n",
       "         'name': 'ATM',\n",
       "         'pluralName': 'ATMs',\n",
       "         'shortName': 'ATM',\n",
       "         'icon': {'prefix': 'https://ss3.4sqi.net/img/categories_v2/shops/financial_',\n",
       "          'suffix': '.png'},\n",
       "         'primary': True}],\n",
       "       'photos': {'count': 0, 'groups': []}},\n",
       "      'referralId': 'e-0-4cfefd9766ee9eb07c3ca74e-5'},\n",
       "     {'reasons': {'count': 0,\n",
       "       'items': [{'summary': 'This spot is popular',\n",
       "         'type': 'general',\n",
       "         'reasonName': 'globalInteractionReason'}]},\n",
       "      'venue': {'id': '55d216c2498e14d77be50e02',\n",
       "       'name': 'The UPS Store',\n",
       "       'location': {'address': '5627 Kanan Rd',\n",
       "        'lat': 34.1525439,\n",
       "        'lng': -118.759102,\n",
       "        'labeledLatLngs': [{'label': 'display',\n",
       "          'lat': 34.1525439,\n",
       "          'lng': -118.759102}],\n",
       "        'distance': 387,\n",
       "        'postalCode': '91301',\n",
       "        'cc': 'US',\n",
       "        'city': 'Agoura Hills',\n",
       "        'state': 'CA',\n",
       "        'country': 'United States',\n",
       "        'formattedAddress': ['5627 Kanan Rd',\n",
       "         'Agoura Hills, CA 91301',\n",
       "         'United States']},\n",
       "       'categories': [{'id': '52f2ab2ebcbc57f1066b8b1f',\n",
       "         'name': 'Shipping Store',\n",
       "         'pluralName': 'Shipping Stores',\n",
       "         'shortName': 'Shipping Store',\n",
       "         'icon': {'prefix': 'https://ss3.4sqi.net/img/categories_v2/shops/default_',\n",
       "          'suffix': '.png'},\n",
       "         'primary': True}],\n",
       "       'photos': {'count': 0, 'groups': []}},\n",
       "      'referralId': 'e-0-55d216c2498e14d77be50e02-6'},\n",
       "     {'reasons': {'count': 0,\n",
       "       'items': [{'summary': 'This spot is popular',\n",
       "         'type': 'general',\n",
       "         'reasonName': 'globalInteractionReason'}]},\n",
       "      'venue': {'id': '533b7072498eef342360c1fa',\n",
       "       'name': 'The Latigo Kid',\n",
       "       'location': {'address': '5617 Kanan Rd',\n",
       "        'crossStreet': 'at Thousand Oaks Blvd',\n",
       "        'lat': 34.152475464313085,\n",
       "        'lng': -118.75848654370901,\n",
       "        'labeledLatLngs': [{'label': 'display',\n",
       "          'lat': 34.152475464313085,\n",
       "          'lng': -118.75848654370901}],\n",
       "        'distance': 432,\n",
       "        'postalCode': '91301',\n",
       "        'cc': 'US',\n",
       "        'city': 'Agoura Hills',\n",
       "        'state': 'CA',\n",
       "        'country': 'United States',\n",
       "        'formattedAddress': ['5617 Kanan Rd (at Thousand Oaks Blvd)',\n",
       "         'Agoura Hills, CA 91301',\n",
       "         'United States']},\n",
       "       'categories': [{'id': '4bf58dd8d48988d1c1941735',\n",
       "         'name': 'Mexican Restaurant',\n",
       "         'pluralName': 'Mexican Restaurants',\n",
       "         'shortName': 'Mexican',\n",
       "         'icon': {'prefix': 'https://ss3.4sqi.net/img/categories_v2/food/mexican_',\n",
       "          'suffix': '.png'},\n",
       "         'primary': True}],\n",
       "       'photos': {'count': 0, 'groups': []}},\n",
       "      'referralId': 'e-0-533b7072498eef342360c1fa-7'},\n",
       "     {'reasons': {'count': 0,\n",
       "       'items': [{'summary': 'This spot is popular',\n",
       "         'type': 'general',\n",
       "         'reasonName': 'globalInteractionReason'}]},\n",
       "      'venue': {'id': '4a3908b5f964a520119f1fe3',\n",
       "       'name': 'Shell',\n",
       "       'location': {'address': '5134 Kanan Rd',\n",
       "        'crossStreet': 'at Canwood St.',\n",
       "        'lat': 34.14718458592588,\n",
       "        'lng': -118.76066720338483,\n",
       "        'labeledLatLngs': [{'label': 'display',\n",
       "          'lat': 34.14718458592588,\n",
       "          'lng': -118.76066720338483}],\n",
       "        'distance': 420,\n",
       "        'postalCode': '91301',\n",
       "        'cc': 'US',\n",
       "        'city': 'Agoura Hills',\n",
       "        'state': 'CA',\n",
       "        'country': 'United States',\n",
       "        'formattedAddress': ['5134 Kanan Rd (at Canwood St.)',\n",
       "         'Agoura Hills, CA 91301',\n",
       "         'United States']},\n",
       "       'categories': [{'id': '4bf58dd8d48988d113951735',\n",
       "         'name': 'Gas Station',\n",
       "         'pluralName': 'Gas Stations',\n",
       "         'shortName': 'Gas Station',\n",
       "         'icon': {'prefix': 'https://ss3.4sqi.net/img/categories_v2/shops/gas_',\n",
       "          'suffix': '.png'},\n",
       "         'primary': True}],\n",
       "       'photos': {'count': 0, 'groups': []}},\n",
       "      'referralId': 'e-0-4a3908b5f964a520119f1fe3-8'},\n",
       "     {'reasons': {'count': 0,\n",
       "       'items': [{'summary': 'This spot is popular',\n",
       "         'type': 'general',\n",
       "         'reasonName': 'globalInteractionReason'}]},\n",
       "      'venue': {'id': '4cfee7a0c00a59411e6e8f87',\n",
       "       'name': 'Starbucks',\n",
       "       'location': {'address': '5671 Kanan Rd',\n",
       "        'lat': 34.153631,\n",
       "        'lng': -118.759182,\n",
       "        'labeledLatLngs': [{'label': 'display',\n",
       "          'lat': 34.153631,\n",
       "          'lng': -118.759182}],\n",
       "        'distance': 460,\n",
       "        'postalCode': '91301',\n",
       "        'cc': 'US',\n",
       "        'city': 'Agoura Hills',\n",
       "        'state': 'CA',\n",
       "        'country': 'United States',\n",
       "        'formattedAddress': ['5671 Kanan Rd',\n",
       "         'Agoura Hills, CA 91301',\n",
       "         'United States']},\n",
       "       'categories': [{'id': '4bf58dd8d48988d1e0931735',\n",
       "         'name': 'Coffee Shop',\n",
       "         'pluralName': 'Coffee Shops',\n",
       "         'shortName': 'Coffee Shop',\n",
       "         'icon': {'prefix': 'https://ss3.4sqi.net/img/categories_v2/food/coffeeshop_',\n",
       "          'suffix': '.png'},\n",
       "         'primary': True}],\n",
       "       'photos': {'count': 0, 'groups': []}},\n",
       "      'referralId': 'e-0-4cfee7a0c00a59411e6e8f87-9'},\n",
       "     {'reasons': {'count': 0,\n",
       "       'items': [{'summary': 'This spot is popular',\n",
       "         'type': 'general',\n",
       "         'reasonName': 'globalInteractionReason'}]},\n",
       "      'venue': {'id': '4b197bc2f964a52027de23e3',\n",
       "       'name': 'VONS',\n",
       "       'location': {'address': '5671 Kanan Rd',\n",
       "        'crossStreet': 'Thousand Oaks Blvd',\n",
       "        'lat': 34.15366160988684,\n",
       "        'lng': -118.75920771957226,\n",
       "        'labeledLatLngs': [{'label': 'display',\n",
       "          'lat': 34.15366160988684,\n",
       "          'lng': -118.75920771957226}],\n",
       "        'distance': 461,\n",
       "        'postalCode': '91301',\n",
       "        'cc': 'US',\n",
       "        'city': 'Agoura',\n",
       "        'state': 'CA',\n",
       "        'country': 'United States',\n",
       "        'formattedAddress': ['5671 Kanan Rd (Thousand Oaks Blvd)',\n",
       "         'Agoura, CA 91301',\n",
       "         'United States']},\n",
       "       'categories': [{'id': '4bf58dd8d48988d118951735',\n",
       "         'name': 'Grocery Store',\n",
       "         'pluralName': 'Grocery Stores',\n",
       "         'shortName': 'Grocery Store',\n",
       "         'icon': {'prefix': 'https://ss3.4sqi.net/img/categories_v2/shops/food_grocery_',\n",
       "          'suffix': '.png'},\n",
       "         'primary': True}],\n",
       "       'photos': {'count': 0, 'groups': []}},\n",
       "      'referralId': 'e-0-4b197bc2f964a52027de23e3-10'},\n",
       "     {'reasons': {'count': 0,\n",
       "       'items': [{'summary': 'This spot is popular',\n",
       "         'type': 'general',\n",
       "         'reasonName': 'globalInteractionReason'}]},\n",
       "      'venue': {'id': '55570186498ed73c5f63bd79',\n",
       "       'name': 'Agoura Hills Carpet Cleaning Experts',\n",
       "       'location': {'address': '29217 Trailway Ln',\n",
       "        'lat': 34.15285128020904,\n",
       "        'lng': -118.76231431961058,\n",
       "        'labeledLatLngs': [{'label': 'display',\n",
       "          'lat': 34.15285128020904,\n",
       "          'lng': -118.76231431961058}],\n",
       "        'distance': 251,\n",
       "        'postalCode': '91301',\n",
       "        'cc': 'US',\n",
       "        'city': 'Agoura Hills',\n",
       "        'state': 'CA',\n",
       "        'country': 'United States',\n",
       "        'formattedAddress': ['29217 Trailway Ln',\n",
       "         'Agoura Hills, CA 91301',\n",
       "         'United States']},\n",
       "       'categories': [{'id': '52f2ab2ebcbc57f1066b8b1d',\n",
       "         'name': 'Dry Cleaner',\n",
       "         'pluralName': 'Dry Cleaners',\n",
       "         'shortName': 'Dry Cleaner',\n",
       "         'icon': {'prefix': 'https://ss3.4sqi.net/img/categories_v2/shops/drycleaner_',\n",
       "          'suffix': '.png'},\n",
       "         'primary': True}],\n",
       "       'photos': {'count': 0, 'groups': []}},\n",
       "      'referralId': 'e-0-55570186498ed73c5f63bd79-11'},\n",
       "     {'reasons': {'count': 0,\n",
       "       'items': [{'summary': 'This spot is popular',\n",
       "         'type': 'general',\n",
       "         'reasonName': 'globalInteractionReason'}]},\n",
       "      'venue': {'id': '4b51c3abf964a520c35427e3',\n",
       "       'name': \"McDonald's\",\n",
       "       'location': {'address': '29161 Canwood St',\n",
       "        'crossStreet': 'Kanan Rd.',\n",
       "        'lat': 34.147187671607306,\n",
       "        'lng': -118.76018062233925,\n",
       "        'labeledLatLngs': [{'label': 'display',\n",
       "          'lat': 34.147187671607306,\n",
       "          'lng': -118.76018062233925}],\n",
       "        'distance': 441,\n",
       "        'postalCode': '91301',\n",
       "        'cc': 'US',\n",
       "        'city': 'Agoura Hills',\n",
       "        'state': 'CA',\n",
       "        'country': 'United States',\n",
       "        'formattedAddress': ['29161 Canwood St (Kanan Rd.)',\n",
       "         'Agoura Hills, CA 91301',\n",
       "         'United States']},\n",
       "       'categories': [{'id': '4bf58dd8d48988d16e941735',\n",
       "         'name': 'Fast Food Restaurant',\n",
       "         'pluralName': 'Fast Food Restaurants',\n",
       "         'shortName': 'Fast Food',\n",
       "         'icon': {'prefix': 'https://ss3.4sqi.net/img/categories_v2/food/fastfood_',\n",
       "          'suffix': '.png'},\n",
       "         'primary': True}],\n",
       "       'photos': {'count': 0, 'groups': []}},\n",
       "      'referralId': 'e-0-4b51c3abf964a520c35427e3-12'},\n",
       "     {'reasons': {'count': 0,\n",
       "       'items': [{'summary': 'This spot is popular',\n",
       "         'type': 'general',\n",
       "         'reasonName': 'globalInteractionReason'}]},\n",
       "      'venue': {'id': '4e04f475fa7693e8a408774a',\n",
       "       'name': 'Archstone Oak Creek Gym',\n",
       "       'location': {'address': 'Willow Ct',\n",
       "        'lat': 34.14802867547384,\n",
       "        'lng': -118.75880112088623,\n",
       "        'labeledLatLngs': [{'label': 'display',\n",
       "          'lat': 34.14802867547384,\n",
       "          'lng': -118.75880112088623}],\n",
       "        'distance': 452,\n",
       "        'postalCode': '91301',\n",
       "        'cc': 'US',\n",
       "        'city': 'Agoura Hills',\n",
       "        'state': 'CA',\n",
       "        'country': 'United States',\n",
       "        'formattedAddress': ['Willow Ct',\n",
       "         'Agoura Hills, CA 91301',\n",
       "         'United States']},\n",
       "       'categories': [{'id': '4bf58dd8d48988d176941735',\n",
       "         'name': 'Gym',\n",
       "         'pluralName': 'Gyms',\n",
       "         'shortName': 'Gym',\n",
       "         'icon': {'prefix': 'https://ss3.4sqi.net/img/categories_v2/building/gym_',\n",
       "          'suffix': '.png'},\n",
       "         'primary': True}],\n",
       "       'photos': {'count': 0, 'groups': []}},\n",
       "      'referralId': 'e-0-4e04f475fa7693e8a408774a-13'}]}]}}"
      ]
     },
     "execution_count": 25,
     "metadata": {},
     "output_type": "execute_result"
    }
   ],
   "source": [
    "results"
   ]
  },
  {
   "cell_type": "code",
   "execution_count": 26,
   "metadata": {},
   "outputs": [
    {
     "data": {
      "text/html": [
       "<div>\n",
       "<style scoped>\n",
       "    .dataframe tbody tr th:only-of-type {\n",
       "        vertical-align: middle;\n",
       "    }\n",
       "\n",
       "    .dataframe tbody tr th {\n",
       "        vertical-align: top;\n",
       "    }\n",
       "\n",
       "    .dataframe thead th {\n",
       "        text-align: right;\n",
       "    }\n",
       "</style>\n",
       "<table border=\"1\" class=\"dataframe\">\n",
       "  <thead>\n",
       "    <tr style=\"text-align: right;\">\n",
       "      <th></th>\n",
       "      <th>name</th>\n",
       "      <th>categories</th>\n",
       "      <th>lat</th>\n",
       "      <th>lng</th>\n",
       "    </tr>\n",
       "  </thead>\n",
       "  <tbody>\n",
       "    <tr>\n",
       "      <th>0</th>\n",
       "      <td>Italia Deli &amp; Bakery</td>\n",
       "      <td>Deli / Bodega</td>\n",
       "      <td>34.153099</td>\n",
       "      <td>-118.759037</td>\n",
       "    </tr>\n",
       "    <tr>\n",
       "      <th>1</th>\n",
       "      <td>Sushi Raku</td>\n",
       "      <td>Sushi Restaurant</td>\n",
       "      <td>34.148230</td>\n",
       "      <td>-118.760163</td>\n",
       "    </tr>\n",
       "    <tr>\n",
       "      <th>2</th>\n",
       "      <td>Lal Mirch</td>\n",
       "      <td>Indian Restaurant</td>\n",
       "      <td>34.147822</td>\n",
       "      <td>-118.760536</td>\n",
       "    </tr>\n",
       "    <tr>\n",
       "      <th>3</th>\n",
       "      <td>Taco Bell</td>\n",
       "      <td>Fast Food Restaurant</td>\n",
       "      <td>34.151700</td>\n",
       "      <td>-118.758719</td>\n",
       "    </tr>\n",
       "    <tr>\n",
       "      <th>4</th>\n",
       "      <td>CVS pharmacy</td>\n",
       "      <td>Pharmacy</td>\n",
       "      <td>34.152485</td>\n",
       "      <td>-118.758758</td>\n",
       "    </tr>\n",
       "  </tbody>\n",
       "</table>\n",
       "</div>"
      ],
      "text/plain": [
       "                   name            categories        lat         lng\n",
       "0  Italia Deli & Bakery         Deli / Bodega  34.153099 -118.759037\n",
       "1            Sushi Raku      Sushi Restaurant  34.148230 -118.760163\n",
       "2             Lal Mirch     Indian Restaurant  34.147822 -118.760536\n",
       "3             Taco Bell  Fast Food Restaurant  34.151700 -118.758719\n",
       "4          CVS pharmacy              Pharmacy  34.152485 -118.758758"
      ]
     },
     "execution_count": 26,
     "metadata": {},
     "output_type": "execute_result"
    }
   ],
   "source": [
    "venues = results['response']['groups'][0]['items'] # get venues from the json file\n",
    "    \n",
    "nearby_venues = json_normalize(venues) # flatten JSON ... convert to dataframe\n",
    "\n",
    "# filter columns\n",
    "filtered_columns = ['venue.name', 'venue.categories', 'venue.location.lat', 'venue.location.lng']\n",
    "nearby_venues =nearby_venues.loc[:, filtered_columns]\n",
    "\n",
    "# filter the category for each row\n",
    "nearby_venues['venue.categories'] = nearby_venues.apply(get_category_type, axis=1)\n",
    "\n",
    "# clean columns\n",
    "nearby_venues.columns = [col.split(\".\")[-1] for col in nearby_venues.columns]\n",
    "\n",
    "nearby_venues.head()"
   ]
  },
  {
   "cell_type": "code",
   "execution_count": 36,
   "metadata": {},
   "outputs": [
    {
     "name": "stdout",
     "output_type": "stream",
     "text": [
      "14 venues were returned by Foursquare.\n"
     ]
    }
   ],
   "source": [
    "print('{} venues were returned by Foursquare.'.format(nearby_venues.shape[0]))"
   ]
  },
  {
   "cell_type": "code",
   "execution_count": 37,
   "metadata": {},
   "outputs": [],
   "source": [
    "df_sun_roof_ca =df_sun_roof_ca[df_sun_roof_ca.count_qualified>=1500]# Due to quota limit of Foursquare API, we choose only regions with high or equal to count_qualified of 1500"
   ]
  },
  {
   "cell_type": "code",
   "execution_count": 38,
   "metadata": {},
   "outputs": [],
   "source": [
    "df_sun_roof_ca.reset_index(inplace=True, drop=True) # reset the index"
   ]
  },
  {
   "cell_type": "code",
   "execution_count": 39,
   "metadata": {},
   "outputs": [
    {
     "data": {
      "text/plain": [
       "(500, 7)"
      ]
     },
     "execution_count": 39,
     "metadata": {},
     "output_type": "execute_result"
    }
   ],
   "source": [
    "df_sun_roof_ca.shape # check the shape of df_sun_roof_ca data frame"
   ]
  },
  {
   "cell_type": "markdown",
   "metadata": {},
   "source": [
    "#### Let's create a function to repeat the same process to all the regions in California"
   ]
  },
  {
   "cell_type": "code",
   "execution_count": 40,
   "metadata": {},
   "outputs": [],
   "source": [
    "def getNearbyVenues(names, latitudes, longitudes, radius=500):\n",
    "    \n",
    "    venues_list=[]\n",
    "    for name, lat, lng in zip(names, latitudes, longitudes):\n",
    "        #print(name)\n",
    "            \n",
    "        # create the API request URL\n",
    "        url = 'https://api.foursquare.com/v2/venues/explore?&client_id={}&client_secret={}&v={}&ll={},{}&radius={}&limit={}'.format(\n",
    "            CLIENT_ID, \n",
    "            CLIENT_SECRET, \n",
    "            VERSION, \n",
    "            lat, \n",
    "            lng, \n",
    "            radius, \n",
    "            LIMIT)\n",
    "            \n",
    "        # make the GET request\n",
    "        results = requests.get(url).json()[\"response\"]['groups'][0]['items']\n",
    "        \n",
    "        # return only relevant information for each nearby venue\n",
    "        venues_list.append([(\n",
    "            name, \n",
    "            lat, \n",
    "            lng, \n",
    "            v['venue']['name'], \n",
    "            v['venue']['location']['lat'], \n",
    "            v['venue']['location']['lng'],  \n",
    "            v['venue']['categories'][0]['name']) for v in results])\n",
    "\n",
    "    nearby_venues = pd.DataFrame([item for venue_list in venues_list for item in venue_list])\n",
    "    nearby_venues.columns = ['Neighbourhood', \n",
    "                  'Neighbourhood Latitude', \n",
    "                  'Neighbourhood Longitude', \n",
    "                  'Venue', \n",
    "                  'Venue Latitude', \n",
    "                  'Venue Longitude', \n",
    "                  'Venue Category']\n",
    "    \n",
    "    return(nearby_venues)"
   ]
  },
  {
   "cell_type": "code",
   "execution_count": 41,
   "metadata": {},
   "outputs": [
    {
     "ename": "KeyError",
     "evalue": "'groups'",
     "output_type": "error",
     "traceback": [
      "\u001b[0;31m---------------------------------------------------------------------------\u001b[0m",
      "\u001b[0;31mKeyError\u001b[0m                                  Traceback (most recent call last)",
      "\u001b[0;32m<ipython-input-41-fa16fdf1b088>\u001b[0m in \u001b[0;36m<module>\u001b[0;34m\u001b[0m\n\u001b[1;32m      3\u001b[0m california_venues = getNearbyVenues(names=df_sun_roof_ca['region_name'],\n\u001b[1;32m      4\u001b[0m                                    \u001b[0mlatitudes\u001b[0m\u001b[0;34m=\u001b[0m\u001b[0mdf_sun_roof_ca\u001b[0m\u001b[0;34m[\u001b[0m\u001b[0;34m'latitude'\u001b[0m\u001b[0;34m]\u001b[0m\u001b[0;34m,\u001b[0m\u001b[0;34m\u001b[0m\u001b[0;34m\u001b[0m\u001b[0m\n\u001b[0;32m----> 5\u001b[0;31m                                    \u001b[0mlongitudes\u001b[0m\u001b[0;34m=\u001b[0m\u001b[0mdf_sun_roof_ca\u001b[0m\u001b[0;34m[\u001b[0m\u001b[0;34m'longitude'\u001b[0m\u001b[0;34m]\u001b[0m\u001b[0;34m\u001b[0m\u001b[0;34m\u001b[0m\u001b[0m\n\u001b[0m\u001b[1;32m      6\u001b[0m                                   )\n\u001b[1;32m      7\u001b[0m \u001b[0;34m\u001b[0m\u001b[0m\n",
      "\u001b[0;32m<ipython-input-40-2d56e8d77b05>\u001b[0m in \u001b[0;36mgetNearbyVenues\u001b[0;34m(names, latitudes, longitudes, radius)\u001b[0m\n\u001b[1;32m     16\u001b[0m \u001b[0;34m\u001b[0m\u001b[0m\n\u001b[1;32m     17\u001b[0m         \u001b[0;31m# make the GET request\u001b[0m\u001b[0;34m\u001b[0m\u001b[0;34m\u001b[0m\u001b[0;34m\u001b[0m\u001b[0m\n\u001b[0;32m---> 18\u001b[0;31m         \u001b[0mresults\u001b[0m \u001b[0;34m=\u001b[0m \u001b[0mrequests\u001b[0m\u001b[0;34m.\u001b[0m\u001b[0mget\u001b[0m\u001b[0;34m(\u001b[0m\u001b[0murl\u001b[0m\u001b[0;34m)\u001b[0m\u001b[0;34m.\u001b[0m\u001b[0mjson\u001b[0m\u001b[0;34m(\u001b[0m\u001b[0;34m)\u001b[0m\u001b[0;34m[\u001b[0m\u001b[0;34m\"response\"\u001b[0m\u001b[0;34m]\u001b[0m\u001b[0;34m[\u001b[0m\u001b[0;34m'groups'\u001b[0m\u001b[0;34m]\u001b[0m\u001b[0;34m[\u001b[0m\u001b[0;36m0\u001b[0m\u001b[0;34m]\u001b[0m\u001b[0;34m[\u001b[0m\u001b[0;34m'items'\u001b[0m\u001b[0;34m]\u001b[0m\u001b[0;34m\u001b[0m\u001b[0;34m\u001b[0m\u001b[0m\n\u001b[0m\u001b[1;32m     19\u001b[0m \u001b[0;34m\u001b[0m\u001b[0m\n\u001b[1;32m     20\u001b[0m         \u001b[0;31m# return only relevant information for each nearby venue\u001b[0m\u001b[0;34m\u001b[0m\u001b[0;34m\u001b[0m\u001b[0;34m\u001b[0m\u001b[0m\n",
      "\u001b[0;31mKeyError\u001b[0m: 'groups'"
     ]
    }
   ],
   "source": [
    "# type your answer here\n",
    "\n",
    "california_venues = getNearbyVenues(names=df_sun_roof_ca['region_name'],\n",
    "                                   latitudes=df_sun_roof_ca['latitude'],\n",
    "                                   longitudes=df_sun_roof_ca['longitude']\n",
    "                                  )\n",
    "\n"
   ]
  },
  {
   "cell_type": "code",
   "execution_count": 42,
   "metadata": {},
   "outputs": [
    {
     "ename": "NameError",
     "evalue": "name 'california_venues' is not defined",
     "output_type": "error",
     "traceback": [
      "\u001b[0;31m---------------------------------------------------------------------------\u001b[0m",
      "\u001b[0;31mNameError\u001b[0m                                 Traceback (most recent call last)",
      "\u001b[0;32m<ipython-input-42-5faaef1ccd6a>\u001b[0m in \u001b[0;36m<module>\u001b[0;34m\u001b[0m\n\u001b[0;32m----> 1\u001b[0;31m \u001b[0mcalifornia_venues\u001b[0m\u001b[0;34m.\u001b[0m\u001b[0mrename\u001b[0m\u001b[0;34m(\u001b[0m\u001b[0mcolumns\u001b[0m\u001b[0;34m=\u001b[0m\u001b[0;34m{\u001b[0m\u001b[0;34m'Venue Latitude'\u001b[0m\u001b[0;34m:\u001b[0m\u001b[0;34m'latitude'\u001b[0m\u001b[0;34m,\u001b[0m \u001b[0;34m'Venue Longitude'\u001b[0m\u001b[0;34m:\u001b[0m\u001b[0;34m'longitude'\u001b[0m\u001b[0;34m}\u001b[0m\u001b[0;34m,\u001b[0m \u001b[0minplace\u001b[0m\u001b[0;34m=\u001b[0m\u001b[0;32mTrue\u001b[0m\u001b[0;34m)\u001b[0m\u001b[0;34m\u001b[0m\u001b[0;34m\u001b[0m\u001b[0m\n\u001b[0m",
      "\u001b[0;31mNameError\u001b[0m: name 'california_venues' is not defined"
     ]
    }
   ],
   "source": [
    "california_venues.rename(columns={'Venue Latitude':'latitude', 'Venue Longitude':'longitude'}, inplace=True)"
   ]
  },
  {
   "cell_type": "code",
   "execution_count": 43,
   "metadata": {},
   "outputs": [
    {
     "ename": "NameError",
     "evalue": "name 'california_venues' is not defined",
     "output_type": "error",
     "traceback": [
      "\u001b[0;31m---------------------------------------------------------------------------\u001b[0m",
      "\u001b[0;31mNameError\u001b[0m                                 Traceback (most recent call last)",
      "\u001b[0;32m<ipython-input-43-a4a512268f4d>\u001b[0m in \u001b[0;36m<module>\u001b[0;34m\u001b[0m\n\u001b[0;32m----> 1\u001b[0;31m \u001b[0mcalifornia_venues\u001b[0m\u001b[0;34m.\u001b[0m\u001b[0mhead\u001b[0m\u001b[0;34m(\u001b[0m\u001b[0;34m)\u001b[0m\u001b[0;34m\u001b[0m\u001b[0;34m\u001b[0m\u001b[0m\n\u001b[0m",
      "\u001b[0;31mNameError\u001b[0m: name 'california_venues' is not defined"
     ]
    }
   ],
   "source": [
    "california_venues.head()"
   ]
  },
  {
   "cell_type": "markdown",
   "metadata": {},
   "source": [
    "Let's check how many venues were returned for each neighborhood"
   ]
  },
  {
   "cell_type": "code",
   "execution_count": 44,
   "metadata": {},
   "outputs": [
    {
     "ename": "NameError",
     "evalue": "name 'california_venues' is not defined",
     "output_type": "error",
     "traceback": [
      "\u001b[0;31m---------------------------------------------------------------------------\u001b[0m",
      "\u001b[0;31mNameError\u001b[0m                                 Traceback (most recent call last)",
      "\u001b[0;32m<ipython-input-44-dd94cc3d2e77>\u001b[0m in \u001b[0;36m<module>\u001b[0;34m\u001b[0m\n\u001b[0;32m----> 1\u001b[0;31m \u001b[0mcalifornia_venues\u001b[0m\u001b[0;34m.\u001b[0m\u001b[0mgroupby\u001b[0m\u001b[0;34m(\u001b[0m\u001b[0;34m'Neighbourhood'\u001b[0m\u001b[0;34m)\u001b[0m\u001b[0;34m.\u001b[0m\u001b[0mcount\u001b[0m\u001b[0;34m(\u001b[0m\u001b[0;34m)\u001b[0m\u001b[0;34m\u001b[0m\u001b[0;34m\u001b[0m\u001b[0m\n\u001b[0m",
      "\u001b[0;31mNameError\u001b[0m: name 'california_venues' is not defined"
     ]
    }
   ],
   "source": [
    "california_venues.groupby('Neighbourhood').count()\n"
   ]
  },
  {
   "cell_type": "markdown",
   "metadata": {},
   "source": [
    "## 2 Analyze Each Neighborhood"
   ]
  },
  {
   "cell_type": "code",
   "execution_count": 45,
   "metadata": {},
   "outputs": [
    {
     "ename": "NameError",
     "evalue": "name 'california_venues' is not defined",
     "output_type": "error",
     "traceback": [
      "\u001b[0;31m---------------------------------------------------------------------------\u001b[0m",
      "\u001b[0;31mNameError\u001b[0m                                 Traceback (most recent call last)",
      "\u001b[0;32m<ipython-input-45-cabe495bf45d>\u001b[0m in \u001b[0;36m<module>\u001b[0;34m\u001b[0m\n\u001b[1;32m      1\u001b[0m \u001b[0;31m# one hot encoding\u001b[0m\u001b[0;34m\u001b[0m\u001b[0;34m\u001b[0m\u001b[0;34m\u001b[0m\u001b[0m\n\u001b[0;32m----> 2\u001b[0;31m \u001b[0mcalifornia_onehot\u001b[0m \u001b[0;34m=\u001b[0m \u001b[0mpd\u001b[0m\u001b[0;34m.\u001b[0m\u001b[0mget_dummies\u001b[0m\u001b[0;34m(\u001b[0m\u001b[0mcalifornia_venues\u001b[0m\u001b[0;34m[\u001b[0m\u001b[0;34m[\u001b[0m\u001b[0;34m'Venue Category'\u001b[0m\u001b[0;34m]\u001b[0m\u001b[0;34m]\u001b[0m\u001b[0;34m,\u001b[0m \u001b[0mprefix\u001b[0m\u001b[0;34m=\u001b[0m\u001b[0;34m\"\"\u001b[0m\u001b[0;34m,\u001b[0m \u001b[0mprefix_sep\u001b[0m\u001b[0;34m=\u001b[0m\u001b[0;34m\"\"\u001b[0m\u001b[0;34m)\u001b[0m\u001b[0;34m\u001b[0m\u001b[0;34m\u001b[0m\u001b[0m\n\u001b[0m\u001b[1;32m      3\u001b[0m \u001b[0;34m\u001b[0m\u001b[0m\n\u001b[1;32m      4\u001b[0m \u001b[0;31m# add neighborhood column back to dataframe\u001b[0m\u001b[0;34m\u001b[0m\u001b[0;34m\u001b[0m\u001b[0;34m\u001b[0m\u001b[0m\n\u001b[1;32m      5\u001b[0m \u001b[0mcalifornia_onehot\u001b[0m\u001b[0;34m[\u001b[0m\u001b[0;34m'Neighbourhood'\u001b[0m\u001b[0;34m]\u001b[0m \u001b[0;34m=\u001b[0m \u001b[0mcalifornia_venues\u001b[0m\u001b[0;34m[\u001b[0m\u001b[0;34m'Neighbourhood'\u001b[0m\u001b[0;34m]\u001b[0m\u001b[0;34m\u001b[0m\u001b[0;34m\u001b[0m\u001b[0m\n",
      "\u001b[0;31mNameError\u001b[0m: name 'california_venues' is not defined"
     ]
    }
   ],
   "source": [
    "# one hot encoding\n",
    "california_onehot = pd.get_dummies(california_venues[['Venue Category']], prefix=\"\", prefix_sep=\"\")\n",
    "\n",
    "# add neighborhood column back to dataframe\n",
    "california_onehot['Neighbourhood'] = california_venues['Neighbourhood'] \n",
    "\n",
    "# move neighborhood column to the first column\n",
    "fixed_columns = [california_onehot.columns[-1]] + list(california_onehot.columns[:-1])\n",
    "california_onehot = california_onehot[fixed_columns]\n",
    "\n",
    "california_onehot.head()"
   ]
  },
  {
   "cell_type": "code",
   "execution_count": 46,
   "metadata": {},
   "outputs": [
    {
     "ename": "NameError",
     "evalue": "name 'california_onehot' is not defined",
     "output_type": "error",
     "traceback": [
      "\u001b[0;31m---------------------------------------------------------------------------\u001b[0m",
      "\u001b[0;31mNameError\u001b[0m                                 Traceback (most recent call last)",
      "\u001b[0;32m<ipython-input-46-7277d1792769>\u001b[0m in \u001b[0;36m<module>\u001b[0;34m\u001b[0m\n\u001b[0;32m----> 1\u001b[0;31m \u001b[0mcalifornia_onehot\u001b[0m\u001b[0;34m.\u001b[0m\u001b[0mshape\u001b[0m\u001b[0;34m\u001b[0m\u001b[0;34m\u001b[0m\u001b[0m\n\u001b[0m",
      "\u001b[0;31mNameError\u001b[0m: name 'california_onehot' is not defined"
     ]
    }
   ],
   "source": [
    "california_onehot.shape"
   ]
  },
  {
   "cell_type": "markdown",
   "metadata": {},
   "source": [
    "#### Next, let's group rows by neighborhood and by taking the mean of the frequency of occurrence of each category"
   ]
  },
  {
   "cell_type": "code",
   "execution_count": 47,
   "metadata": {},
   "outputs": [
    {
     "ename": "NameError",
     "evalue": "name 'california_onehot' is not defined",
     "output_type": "error",
     "traceback": [
      "\u001b[0;31m---------------------------------------------------------------------------\u001b[0m",
      "\u001b[0;31mNameError\u001b[0m                                 Traceback (most recent call last)",
      "\u001b[0;32m<ipython-input-47-b2733832eb2d>\u001b[0m in \u001b[0;36m<module>\u001b[0;34m\u001b[0m\n\u001b[0;32m----> 1\u001b[0;31m \u001b[0mcalifornia_grouped\u001b[0m \u001b[0;34m=\u001b[0m \u001b[0mcalifornia_onehot\u001b[0m\u001b[0;34m.\u001b[0m\u001b[0mgroupby\u001b[0m\u001b[0;34m(\u001b[0m\u001b[0;34m'Neighbourhood'\u001b[0m\u001b[0;34m)\u001b[0m\u001b[0;34m.\u001b[0m\u001b[0mmean\u001b[0m\u001b[0;34m(\u001b[0m\u001b[0;34m)\u001b[0m\u001b[0;34m.\u001b[0m\u001b[0mreset_index\u001b[0m\u001b[0;34m(\u001b[0m\u001b[0;34m)\u001b[0m\u001b[0;34m\u001b[0m\u001b[0;34m\u001b[0m\u001b[0m\n\u001b[0m\u001b[1;32m      2\u001b[0m \u001b[0mcalifornia_grouped\u001b[0m\u001b[0;34m\u001b[0m\u001b[0;34m\u001b[0m\u001b[0m\n",
      "\u001b[0;31mNameError\u001b[0m: name 'california_onehot' is not defined"
     ]
    }
   ],
   "source": [
    "california_grouped = california_onehot.groupby('Neighbourhood').mean().reset_index()\n",
    "california_grouped"
   ]
  },
  {
   "cell_type": "markdown",
   "metadata": {},
   "source": [
    "#### Let's put that into a *pandas* dataframe"
   ]
  },
  {
   "cell_type": "markdown",
   "metadata": {},
   "source": [
    "First, let's write a function to sort the venues in descending order"
   ]
  },
  {
   "cell_type": "code",
   "execution_count": 48,
   "metadata": {},
   "outputs": [],
   "source": [
    "def return_most_common_venues(row, num_top_venues):\n",
    "    row_categories = row.iloc[1:]\n",
    "    row_categories_sorted = row_categories.sort_values(ascending=False)\n",
    "    \n",
    "    return row_categories_sorted.index.values[0:num_top_venues]"
   ]
  },
  {
   "cell_type": "code",
   "execution_count": 49,
   "metadata": {},
   "outputs": [
    {
     "ename": "NameError",
     "evalue": "name 'california_grouped' is not defined",
     "output_type": "error",
     "traceback": [
      "\u001b[0;31m---------------------------------------------------------------------------\u001b[0m",
      "\u001b[0;31mNameError\u001b[0m                                 Traceback (most recent call last)",
      "\u001b[0;32m<ipython-input-49-a3fbeca47082>\u001b[0m in \u001b[0;36m<module>\u001b[0;34m\u001b[0m\n\u001b[1;32m     14\u001b[0m \u001b[0;31m# create a new dataframe\u001b[0m\u001b[0;34m\u001b[0m\u001b[0;34m\u001b[0m\u001b[0;34m\u001b[0m\u001b[0m\n\u001b[1;32m     15\u001b[0m \u001b[0mneighborhoods_venues_sorted\u001b[0m \u001b[0;34m=\u001b[0m \u001b[0mpd\u001b[0m\u001b[0;34m.\u001b[0m\u001b[0mDataFrame\u001b[0m\u001b[0;34m(\u001b[0m\u001b[0mcolumns\u001b[0m\u001b[0;34m=\u001b[0m\u001b[0mcolumns\u001b[0m\u001b[0;34m)\u001b[0m\u001b[0;34m\u001b[0m\u001b[0;34m\u001b[0m\u001b[0m\n\u001b[0;32m---> 16\u001b[0;31m \u001b[0mneighborhoods_venues_sorted\u001b[0m\u001b[0;34m[\u001b[0m\u001b[0;34m'Neighbourhood'\u001b[0m\u001b[0;34m]\u001b[0m \u001b[0;34m=\u001b[0m\u001b[0mcalifornia_grouped\u001b[0m\u001b[0;34m[\u001b[0m\u001b[0;34m'Neighbourhood'\u001b[0m\u001b[0;34m]\u001b[0m\u001b[0;34m\u001b[0m\u001b[0;34m\u001b[0m\u001b[0m\n\u001b[0m\u001b[1;32m     17\u001b[0m \u001b[0;34m\u001b[0m\u001b[0m\n\u001b[1;32m     18\u001b[0m \u001b[0;32mfor\u001b[0m \u001b[0mind\u001b[0m \u001b[0;32min\u001b[0m \u001b[0mnp\u001b[0m\u001b[0;34m.\u001b[0m\u001b[0marange\u001b[0m\u001b[0;34m(\u001b[0m\u001b[0mcalifornia_grouped\u001b[0m\u001b[0;34m.\u001b[0m\u001b[0mshape\u001b[0m\u001b[0;34m[\u001b[0m\u001b[0;36m0\u001b[0m\u001b[0;34m]\u001b[0m\u001b[0;34m)\u001b[0m\u001b[0;34m:\u001b[0m\u001b[0;34m\u001b[0m\u001b[0;34m\u001b[0m\u001b[0m\n",
      "\u001b[0;31mNameError\u001b[0m: name 'california_grouped' is not defined"
     ]
    }
   ],
   "source": [
    "import numpy as np\n",
    "num_top_venues = 10\n",
    "\n",
    "indicators = ['st', 'nd', 'rd']\n",
    "\n",
    "# create columns according to number of top venues\n",
    "columns = ['Neighbourhood']\n",
    "for ind in np.arange(num_top_venues):\n",
    "    try:\n",
    "        columns.append('{}{} Most Common Venue'.format(ind+1, indicators[ind]))\n",
    "    except:\n",
    "        columns.append('{}th Most Common Venue'.format(ind+1))\n",
    "\n",
    "# create a new dataframe\n",
    "neighborhoods_venues_sorted = pd.DataFrame(columns=columns)\n",
    "neighborhoods_venues_sorted['Neighbourhood'] =california_grouped['Neighbourhood']\n",
    "\n",
    "for ind in np.arange(california_grouped.shape[0]):\n",
    "    neighborhoods_venues_sorted.iloc[ind, 1:] = return_most_common_venues(california_grouped.iloc[ind, :], num_top_venues)\n",
    "\n"
   ]
  },
  {
   "cell_type": "code",
   "execution_count": 50,
   "metadata": {},
   "outputs": [
    {
     "data": {
      "text/html": [
       "<div>\n",
       "<style scoped>\n",
       "    .dataframe tbody tr th:only-of-type {\n",
       "        vertical-align: middle;\n",
       "    }\n",
       "\n",
       "    .dataframe tbody tr th {\n",
       "        vertical-align: top;\n",
       "    }\n",
       "\n",
       "    .dataframe thead th {\n",
       "        text-align: right;\n",
       "    }\n",
       "</style>\n",
       "<table border=\"1\" class=\"dataframe\">\n",
       "  <thead>\n",
       "    <tr style=\"text-align: right;\">\n",
       "      <th></th>\n",
       "      <th>Neighbourhood</th>\n",
       "      <th>1st Most Common Venue</th>\n",
       "      <th>2nd Most Common Venue</th>\n",
       "      <th>3rd Most Common Venue</th>\n",
       "      <th>4th Most Common Venue</th>\n",
       "      <th>5th Most Common Venue</th>\n",
       "      <th>6th Most Common Venue</th>\n",
       "      <th>7th Most Common Venue</th>\n",
       "      <th>8th Most Common Venue</th>\n",
       "      <th>9th Most Common Venue</th>\n",
       "      <th>10th Most Common Venue</th>\n",
       "    </tr>\n",
       "  </thead>\n",
       "  <tbody>\n",
       "  </tbody>\n",
       "</table>\n",
       "</div>"
      ],
      "text/plain": [
       "Empty DataFrame\n",
       "Columns: [Neighbourhood, 1st Most Common Venue, 2nd Most Common Venue, 3rd Most Common Venue, 4th Most Common Venue, 5th Most Common Venue, 6th Most Common Venue, 7th Most Common Venue, 8th Most Common Venue, 9th Most Common Venue, 10th Most Common Venue]\n",
       "Index: []"
      ]
     },
     "execution_count": 50,
     "metadata": {},
     "output_type": "execute_result"
    }
   ],
   "source": [
    "neighborhoods_venues_sorted.head()"
   ]
  },
  {
   "cell_type": "markdown",
   "metadata": {},
   "source": [
    "## 3 Cluster Neighborhoods without kw_total"
   ]
  },
  {
   "cell_type": "code",
   "execution_count": 51,
   "metadata": {},
   "outputs": [
    {
     "ename": "NameError",
     "evalue": "name 'california_grouped' is not defined",
     "output_type": "error",
     "traceback": [
      "\u001b[0;31m---------------------------------------------------------------------------\u001b[0m",
      "\u001b[0;31mNameError\u001b[0m                                 Traceback (most recent call last)",
      "\u001b[0;32m<ipython-input-51-c30c1f0c2b28>\u001b[0m in \u001b[0;36m<module>\u001b[0;34m\u001b[0m\n\u001b[1;32m      4\u001b[0m \u001b[0mkclusters\u001b[0m \u001b[0;34m=\u001b[0m \u001b[0;36m5\u001b[0m\u001b[0;34m\u001b[0m\u001b[0;34m\u001b[0m\u001b[0m\n\u001b[1;32m      5\u001b[0m \u001b[0;34m\u001b[0m\u001b[0m\n\u001b[0;32m----> 6\u001b[0;31m \u001b[0mcalifornia_grouped_clustering\u001b[0m \u001b[0;34m=\u001b[0m  \u001b[0mcalifornia_grouped\u001b[0m\u001b[0;34m.\u001b[0m\u001b[0mdrop\u001b[0m\u001b[0;34m(\u001b[0m\u001b[0;34m'Neighbourhood'\u001b[0m\u001b[0;34m,\u001b[0m\u001b[0;36m1\u001b[0m\u001b[0;34m)\u001b[0m\u001b[0;34m\u001b[0m\u001b[0;34m\u001b[0m\u001b[0m\n\u001b[0m\u001b[1;32m      7\u001b[0m \u001b[0;34m\u001b[0m\u001b[0m\n\u001b[1;32m      8\u001b[0m \u001b[0;31m# run k-means clustering\u001b[0m\u001b[0;34m\u001b[0m\u001b[0;34m\u001b[0m\u001b[0;34m\u001b[0m\u001b[0m\n",
      "\u001b[0;31mNameError\u001b[0m: name 'california_grouped' is not defined"
     ]
    }
   ],
   "source": [
    "# import k-means from clustering stage\n",
    "from sklearn.cluster import KMeans\n",
    "# set number of clusters\n",
    "kclusters = 5\n",
    "\n",
    "california_grouped_clustering =  california_grouped.drop('Neighbourhood',1)\n",
    "\n",
    "# run k-means clustering\n",
    "kmeans = KMeans(n_clusters=kclusters, random_state=0).fit(california_grouped_clustering)\n",
    "\n",
    "# check cluster labels generated for each row in the dataframe\n",
    "kmeans.labels_[0:10]\n",
    "kmeans.inertia_"
   ]
  },
  {
   "cell_type": "code",
   "execution_count": null,
   "metadata": {},
   "outputs": [],
   "source": [
    "Sum_of_squared_distances = []\n",
    "K = range(1,16)\n",
    "for k in K:\n",
    "    \n",
    "    # run k-means clustering\n",
    "    kmeans = KMeans(n_clusters=k, random_state=0).fit(california_grouped_clustering)\n",
    "    Sum_of_squared_distances.append(kmeans.inertia_)"
   ]
  },
  {
   "cell_type": "code",
   "execution_count": null,
   "metadata": {},
   "outputs": [],
   "source": [
    "plt.plot(K, Sum_of_squared_distances, 'bx-')\n",
    "plt.xlabel('k')\n",
    "plt.ylabel('Sum_of_squared_distances')\n",
    "plt.title('Elbow Method For Optimal k')\n",
    "plt.show()"
   ]
  },
  {
   "cell_type": "code",
   "execution_count": null,
   "metadata": {},
   "outputs": [],
   "source": []
  },
  {
   "cell_type": "code",
   "execution_count": null,
   "metadata": {},
   "outputs": [],
   "source": []
  },
  {
   "cell_type": "code",
   "execution_count": null,
   "metadata": {},
   "outputs": [],
   "source": []
  },
  {
   "cell_type": "code",
   "execution_count": null,
   "metadata": {},
   "outputs": [],
   "source": []
  },
  {
   "cell_type": "code",
   "execution_count": null,
   "metadata": {},
   "outputs": [],
   "source": []
  },
  {
   "cell_type": "code",
   "execution_count": null,
   "metadata": {},
   "outputs": [],
   "source": []
  },
  {
   "cell_type": "code",
   "execution_count": null,
   "metadata": {},
   "outputs": [],
   "source": []
  },
  {
   "cell_type": "code",
   "execution_count": null,
   "metadata": {},
   "outputs": [],
   "source": []
  },
  {
   "cell_type": "code",
   "execution_count": null,
   "metadata": {},
   "outputs": [],
   "source": []
  },
  {
   "cell_type": "code",
   "execution_count": null,
   "metadata": {},
   "outputs": [],
   "source": []
  },
  {
   "cell_type": "code",
   "execution_count": null,
   "metadata": {},
   "outputs": [],
   "source": []
  },
  {
   "cell_type": "code",
   "execution_count": null,
   "metadata": {},
   "outputs": [],
   "source": []
  },
  {
   "cell_type": "code",
   "execution_count": null,
   "metadata": {},
   "outputs": [],
   "source": []
  },
  {
   "cell_type": "code",
   "execution_count": null,
   "metadata": {},
   "outputs": [],
   "source": []
  },
  {
   "cell_type": "code",
   "execution_count": null,
   "metadata": {},
   "outputs": [],
   "source": []
  },
  {
   "cell_type": "code",
   "execution_count": null,
   "metadata": {},
   "outputs": [],
   "source": []
  },
  {
   "cell_type": "code",
   "execution_count": null,
   "metadata": {},
   "outputs": [],
   "source": []
  },
  {
   "cell_type": "code",
   "execution_count": null,
   "metadata": {},
   "outputs": [],
   "source": []
  },
  {
   "cell_type": "code",
   "execution_count": null,
   "metadata": {},
   "outputs": [],
   "source": []
  },
  {
   "cell_type": "code",
   "execution_count": null,
   "metadata": {},
   "outputs": [],
   "source": []
  },
  {
   "cell_type": "code",
   "execution_count": null,
   "metadata": {},
   "outputs": [],
   "source": []
  },
  {
   "cell_type": "code",
   "execution_count": null,
   "metadata": {},
   "outputs": [],
   "source": []
  },
  {
   "cell_type": "code",
   "execution_count": null,
   "metadata": {},
   "outputs": [],
   "source": []
  },
  {
   "cell_type": "code",
   "execution_count": null,
   "metadata": {},
   "outputs": [],
   "source": []
  },
  {
   "cell_type": "code",
   "execution_count": null,
   "metadata": {},
   "outputs": [],
   "source": []
  },
  {
   "cell_type": "code",
   "execution_count": null,
   "metadata": {},
   "outputs": [],
   "source": []
  },
  {
   "cell_type": "code",
   "execution_count": null,
   "metadata": {},
   "outputs": [],
   "source": []
  },
  {
   "cell_type": "code",
   "execution_count": null,
   "metadata": {},
   "outputs": [],
   "source": []
  },
  {
   "cell_type": "code",
   "execution_count": null,
   "metadata": {},
   "outputs": [],
   "source": []
  },
  {
   "cell_type": "code",
   "execution_count": null,
   "metadata": {},
   "outputs": [],
   "source": []
  },
  {
   "cell_type": "code",
   "execution_count": null,
   "metadata": {},
   "outputs": [],
   "source": []
  },
  {
   "cell_type": "code",
   "execution_count": null,
   "metadata": {},
   "outputs": [],
   "source": []
  },
  {
   "cell_type": "code",
   "execution_count": null,
   "metadata": {},
   "outputs": [],
   "source": []
  },
  {
   "cell_type": "code",
   "execution_count": null,
   "metadata": {},
   "outputs": [],
   "source": []
  },
  {
   "cell_type": "code",
   "execution_count": null,
   "metadata": {},
   "outputs": [],
   "source": []
  },
  {
   "cell_type": "code",
   "execution_count": null,
   "metadata": {},
   "outputs": [],
   "source": []
  },
  {
   "cell_type": "code",
   "execution_count": null,
   "metadata": {},
   "outputs": [],
   "source": []
  },
  {
   "cell_type": "code",
   "execution_count": null,
   "metadata": {},
   "outputs": [],
   "source": []
  },
  {
   "cell_type": "code",
   "execution_count": null,
   "metadata": {},
   "outputs": [],
   "source": []
  },
  {
   "cell_type": "code",
   "execution_count": null,
   "metadata": {},
   "outputs": [],
   "source": []
  },
  {
   "cell_type": "code",
   "execution_count": null,
   "metadata": {},
   "outputs": [],
   "source": []
  },
  {
   "cell_type": "code",
   "execution_count": null,
   "metadata": {},
   "outputs": [],
   "source": []
  },
  {
   "cell_type": "code",
   "execution_count": null,
   "metadata": {},
   "outputs": [],
   "source": []
  },
  {
   "cell_type": "code",
   "execution_count": null,
   "metadata": {},
   "outputs": [],
   "source": []
  },
  {
   "cell_type": "code",
   "execution_count": null,
   "metadata": {},
   "outputs": [],
   "source": []
  },
  {
   "cell_type": "code",
   "execution_count": null,
   "metadata": {},
   "outputs": [],
   "source": []
  },
  {
   "cell_type": "code",
   "execution_count": null,
   "metadata": {},
   "outputs": [],
   "source": []
  },
  {
   "cell_type": "code",
   "execution_count": null,
   "metadata": {},
   "outputs": [],
   "source": []
  },
  {
   "cell_type": "code",
   "execution_count": null,
   "metadata": {},
   "outputs": [],
   "source": []
  },
  {
   "cell_type": "code",
   "execution_count": null,
   "metadata": {},
   "outputs": [],
   "source": []
  },
  {
   "cell_type": "code",
   "execution_count": null,
   "metadata": {},
   "outputs": [],
   "source": []
  },
  {
   "cell_type": "code",
   "execution_count": null,
   "metadata": {},
   "outputs": [],
   "source": []
  },
  {
   "cell_type": "code",
   "execution_count": null,
   "metadata": {},
   "outputs": [],
   "source": []
  },
  {
   "cell_type": "code",
   "execution_count": null,
   "metadata": {},
   "outputs": [],
   "source": []
  },
  {
   "cell_type": "code",
   "execution_count": null,
   "metadata": {},
   "outputs": [],
   "source": []
  },
  {
   "cell_type": "code",
   "execution_count": null,
   "metadata": {},
   "outputs": [],
   "source": []
  },
  {
   "cell_type": "code",
   "execution_count": null,
   "metadata": {},
   "outputs": [],
   "source": []
  },
  {
   "cell_type": "code",
   "execution_count": null,
   "metadata": {},
   "outputs": [],
   "source": []
  },
  {
   "cell_type": "code",
   "execution_count": null,
   "metadata": {},
   "outputs": [],
   "source": []
  },
  {
   "cell_type": "code",
   "execution_count": null,
   "metadata": {},
   "outputs": [],
   "source": []
  },
  {
   "cell_type": "code",
   "execution_count": null,
   "metadata": {},
   "outputs": [],
   "source": []
  },
  {
   "cell_type": "code",
   "execution_count": null,
   "metadata": {},
   "outputs": [],
   "source": []
  },
  {
   "cell_type": "code",
   "execution_count": null,
   "metadata": {},
   "outputs": [],
   "source": []
  },
  {
   "cell_type": "code",
   "execution_count": null,
   "metadata": {},
   "outputs": [],
   "source": []
  },
  {
   "cell_type": "code",
   "execution_count": null,
   "metadata": {},
   "outputs": [],
   "source": []
  },
  {
   "cell_type": "code",
   "execution_count": null,
   "metadata": {},
   "outputs": [],
   "source": []
  }
 ],
 "metadata": {
  "kernelspec": {
   "display_name": "Python 3.6",
   "language": "python",
   "name": "python3"
  },
  "language_info": {
   "codemirror_mode": {
    "name": "ipython",
    "version": 3
   },
   "file_extension": ".py",
   "mimetype": "text/x-python",
   "name": "python",
   "nbconvert_exporter": "python",
   "pygments_lexer": "ipython3",
   "version": "3.6.8"
  }
 },
 "nbformat": 4,
 "nbformat_minor": 4
}
